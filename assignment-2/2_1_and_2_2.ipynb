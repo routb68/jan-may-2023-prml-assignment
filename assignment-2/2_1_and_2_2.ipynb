{
  "nbformat": 4,
  "nbformat_minor": 0,
  "metadata": {
    "colab": {
      "provenance": [],
      "authorship_tag": "ABX9TyNLlb9ByY3+O+kiV4k4/6jf",
      "include_colab_link": true
    },
    "kernelspec": {
      "name": "python3",
      "display_name": "Python 3"
    },
    "language_info": {
      "name": "python"
    }
  },
  "cells": [
    {
      "cell_type": "markdown",
      "metadata": {
        "id": "view-in-github",
        "colab_type": "text"
      },
      "source": [
        "<a href=\"https://colab.research.google.com/github/routb68/jan-may-2023-prml-assignment/blob/main/2_1_and_2_2.ipynb\" target=\"_parent\"><img src=\"https://colab.research.google.com/assets/colab-badge.svg\" alt=\"Open In Colab\"/></a>"
      ]
    },
    {
      "cell_type": "code",
      "source": [
        "# IMPORTING THE REQUIRED LIBRARIES\n",
        "import numpy as np\n",
        "import pandas as pd\n",
        "import matplotlib.pyplot as plt\n",
        "import seaborn as sns\n",
        "from sklearn.model_selection import train_test_split"
      ],
      "metadata": {
        "id": "WjRpDAcGnVxH"
      },
      "execution_count": null,
      "outputs": []
    },
    {
      "cell_type": "code",
      "source": [
        "# READING THE CSV FILE \n",
        "df=pd.read_csv(r\"/content/A2Data_train.csv\",header=None)"
      ],
      "metadata": {
        "id": "DtQ58RfGnZG6"
      },
      "execution_count": null,
      "outputs": []
    },
    {
      "cell_type": "code",
      "source": [
        "# CALCULATING GRADIENT DESCENT AND REQUIRED ALGORITHM\n",
        "def gradientdescent(mul,x_mul_y,W0,eta,lemda):\n",
        "    Wt=W0\n",
        "    x_mul_y=np.multiply(x_mul_y,2)\n",
        "    i=1\n",
        "    #errorvec=[]\n",
        "    itlist=[]\n",
        "    import math\n",
        "    while(i<1000):\n",
        "        itlist.append(i)\n",
        "        t1=np.matmul(mul, Wt)\n",
        "        t1=np.multiply(t1,2)\n",
        "        grad = np.subtract(t1, x_mul_y)\n",
        "        \n",
        "        extra=2*lemda    # new \n",
        "        rterm=np.multiply(Wt,extra)   #new\n",
        "        grad=np.add(grad,rterm)\n",
        "        \n",
        "        \n",
        "        div = np.linalg.norm(grad)\n",
        "        div=1/div\n",
        "        grad=np.multiply(grad,div)\n",
        "        grad=np.multiply(grad,eta)\n",
        "        W_next=np.subtract(Wt, grad)\n",
        "        Wt=W_next\n",
        "        i+=1\n",
        "    return Wt"
      ],
      "metadata": {
        "id": "lhLUmVvyngqR"
      },
      "execution_count": null,
      "outputs": []
    },
    {
      "cell_type": "code",
      "source": [
        "# CALCULATING THE X MATRIX AND Y MATRIX\n",
        "y=df[100]\n",
        "df.drop(df.columns[[100]], axis=1, inplace=True)\n",
        "data=df.to_numpy()\n",
        "\n",
        "label=y.to_numpy().reshape(-1,1)\n",
        "\n",
        "ones_column = np.ones(data.shape[0]).reshape((-1,1))\n",
        "data = np.concatenate((data, ones_column), axis = 1)\n",
        "\n",
        "data_for_wml=data\n",
        "label_for_wml=label"
      ],
      "metadata": {
        "id": "I2RRagsYnoUE"
      },
      "execution_count": null,
      "outputs": []
    },
    {
      "cell_type": "code",
      "source": [
        "# CALCULATING THE REQUIRED W(ML)\n",
        "transposedata=np.transpose(data)\n",
        "mul=np.matmul(transposedata, data)\n",
        "inversemat=np.linalg.inv(mul)\n",
        "x_mul_y=np.matmul(transposedata, label)\n",
        "W_ml=np.matmul(inversemat, x_mul_y)"
      ],
      "metadata": {
        "id": "5s_lZnM5ntUk"
      },
      "execution_count": null,
      "outputs": []
    },
    {
      "cell_type": "code",
      "source": [
        "# INITIALIZATION OF INITIAL W\n",
        "W0 = np.zeros((101, 1))\n",
        "import random\n",
        "for i in range(101):\n",
        "    x = random.random()\n",
        "    W0[i][0]=x\n",
        "eta=0.1"
      ],
      "metadata": {
        "id": "e1kLzyLynxzo"
      },
      "execution_count": null,
      "outputs": []
    },
    {
      "cell_type": "code",
      "source": [
        "# CALLING THE gradientdescent FUNCTION\n",
        "X_train, X_test, y_train, y_test = train_test_split(data, label, test_size=0.20, random_state=42)\n",
        "\n",
        "transposedata=np.transpose(X_train)\n",
        "mul=np.matmul(transposedata, X_train)\n",
        "x_mul_y=np.matmul(transposedata, y_train)"
      ],
      "metadata": {
        "id": "qh4fqVUXn5K8"
      },
      "execution_count": null,
      "outputs": []
    },
    {
      "cell_type": "code",
      "source": [
        "lemda_list=[]\n",
        "for i in range(0,101):\n",
        "    lemda_list.append(i)"
      ],
      "metadata": {
        "id": "wstCf29vn9x_"
      },
      "execution_count": null,
      "outputs": []
    },
    {
      "cell_type": "code",
      "source": [
        "lemda_error=[]\n",
        "for lemda in lemda_list:\n",
        "    w=gradientdescent(mul,x_mul_y,W0,eta,lemda)\n",
        "    y_predicted=np.matmul(X_test,w)\n",
        "    err=np.subtract(y_predicted,y_test)\n",
        "    errsquare = np.linalg.norm(err)\n",
        "    errsquare=errsquare*errsquare\n",
        "    lemda_error.append(errsquare)\n",
        "    \n",
        "minpos = lemda_error.index(min(lemda_error))\n",
        "min_lemda=lemda_list[minpos]\n",
        "\n",
        "\n",
        "print(\"minimum lemda is\",min_lemda)"
      ],
      "metadata": {
        "colab": {
          "base_uri": "https://localhost:8080/"
        },
        "id": "S-FIrrVZoBQU",
        "outputId": "e5973c60-ff2b-4dcb-817c-cb456cca7118"
      },
      "execution_count": null,
      "outputs": [
        {
          "output_type": "stream",
          "name": "stdout",
          "text": [
            "minimum lemda is 18\n"
          ]
        }
      ]
    },
    {
      "cell_type": "code",
      "source": [
        "# PLOTTING THE REQUIRED GRAPH  \n",
        "lemda_list = np.array(lemda_list)\n",
        "lemda_error=np.array(lemda_error)\n",
        "plt.figure(1)\n",
        "titletemp=\"ERROR DIAGRAM FOR EACH LEMDA\" \n",
        "plt.title(titletemp)\n",
        "plt.xlabel(\"lemda\")\n",
        "plt.ylabel(\"Error\")\n",
        "plt.plot(lemda_list,lemda_error)"
      ],
      "metadata": {
        "colab": {
          "base_uri": "https://localhost:8080/",
          "height": 489
        },
        "id": "k8BUcKULoMwj",
        "outputId": "59c5d61b-722c-4ad0-fb85-a89be22163b2"
      },
      "execution_count": null,
      "outputs": [
        {
          "output_type": "execute_result",
          "data": {
            "text/plain": [
              "[<matplotlib.lines.Line2D at 0x7f0fe86692b0>]"
            ]
          },
          "metadata": {},
          "execution_count": 16
        },
        {
          "output_type": "display_data",
          "data": {
            "text/plain": [
              "<Figure size 640x480 with 1 Axes>"
            ],
            "image/png": "[encoded data removed]"
          },
          "metadata": {}
        }
      ]
    },
    {
      "cell_type": "code",
      "execution_count": null,
      "metadata": {
        "colab": {
          "base_uri": "https://localhost:8080/"
        },
        "id": "1r5eUFdob3e5",
        "outputId": "934a8104-f60c-420a-ac0c-0babb7fabf3a"
      },
      "outputs": [
        {
          "output_type": "stream",
          "name": "stdout",
          "text": [
            "(500, 1)\n",
            "square error of W_ml on test data is  185.37575114435964\n",
            "(500, 1)\n",
            "square error of W_r on test data is  181.70162422305762\n"
          ]
        }
      ],
      "source": [
        "#FINDING Wr FOR BEST LEMDA\n",
        "\n",
        "df=pd.read_csv(r\"/content/A2Data_test.csv\",header=None)\n",
        "\n",
        "\n",
        "# In[15]:\n",
        "\n",
        "\n",
        "# CALCULATING THE X MATRIX AND Y MATRIX\n",
        "y=df[100]\n",
        "df.drop(df.columns[[100]], axis=1, inplace=True)\n",
        "data=df.to_numpy()\n",
        "label=y.to_numpy().reshape(-1,1)\n",
        "ones_column = np.ones(data.shape[0]).reshape((-1,1))\n",
        "data = np.concatenate((data, ones_column), axis = 1)\n",
        "\n",
        "\n",
        "# In[16]:\n",
        "\n",
        "\n",
        "# CALCULATING THE REQUIRED W(r) FOR BEST LEMDA\n",
        "transposedata=np.transpose(data_for_wml)\n",
        "mul=np.matmul(transposedata, data_for_wml)\n",
        "lemda_i = np.identity(mul.shape[0], dtype = int)\n",
        "lemda_i=np.multiply(lemda_i,min_lemda)\n",
        "mul=np.add(mul,lemda_i)\n",
        "inversemat=np.linalg.inv(mul)\n",
        "x_mul_y=np.matmul(transposedata, label_for_wml)\n",
        "W_r=np.matmul(inversemat, x_mul_y)\n",
        "# print(\"Wr is given below\")\n",
        "# print(W_r)\n",
        "\n",
        "\n",
        "# In[17]:\n",
        "\n",
        "\n",
        "# CALCULATING TEST ERROR OF W_ml\n",
        "y_pred_ml=np.matmul(data,W_ml)\n",
        "error_W_ml=np.subtract(y_pred_ml,label)\n",
        "error = np.linalg.norm(error_W_ml)\n",
        "error=error*error\n",
        "print(error_W_ml.shape)\n",
        "print(\"square error of W_ml on test data is \",error)\n",
        "\n",
        "\n",
        "# In[18]:\n",
        "\n",
        "\n",
        "# CALCULATING TEST ERROR OF W_r\n",
        "y_pred_r=np.matmul(data,W_r)\n",
        "error_W_r=np.subtract(y_pred_r,label)\n",
        "error = np.linalg.norm(error_W_r)\n",
        "error=error*error\n",
        "print(error_W_r.shape)\n",
        "print(\"square error of W_r on test data is \",error)"
      ]
    }
  ]
}
