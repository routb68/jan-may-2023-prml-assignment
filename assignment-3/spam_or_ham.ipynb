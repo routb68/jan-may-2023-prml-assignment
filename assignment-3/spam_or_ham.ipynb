{
  "nbformat": 4,
  "nbformat_minor": 0,
  "metadata": {
    "colab": {
      "provenance": [],
      "mount_file_id": "1PXy6cQ95rzJtLLOtBaPOQ9BoFlYpPC-0",
      "authorship_tag": "ABX9TyPr05OqqbpB4Xefj3cdmvBr",
      "include_colab_link": true
    },
    "kernelspec": {
      "name": "python3",
      "display_name": "Python 3"
    },
    "language_info": {
      "name": "python"
    }
  },
  "cells": [
    {
      "cell_type": "markdown",
      "metadata": {
        "id": "view-in-github",
        "colab_type": "text"
      },
      "source": [
        "<a href=\"https://colab.research.google.com/github/routb68/jan-may-2023-prml-assignment/blob/main/spam_or_ham.ipynb\" target=\"_parent\"><img src=\"https://colab.research.google.com/assets/colab-badge.svg\" alt=\"Open In Colab\"/></a>"
      ]
    },
    {
      "cell_type": "code",
      "source": [
        "import os\n",
        "import glob\n",
        "import numpy as np\n",
        "from nltk.corpus import stopwords\n",
        "from nltk.tokenize import word_tokenize\n",
        "from sklearn import svm"
      ],
      "metadata": {
        "id": "xHf_atPSaI-n"
      },
      "execution_count": 52,
      "outputs": []
    },
    {
      "cell_type": "code",
      "execution_count": 53,
      "metadata": {
        "id": "EsrPwbI_Zbb8"
      },
      "outputs": [],
      "source": [
        "import pandas as pd\n",
        "df = pd.read_csv(\"/content/spam_ham_dataset.csv\")"
      ]
    },
    {
      "cell_type": "code",
      "source": [
        "from sklearn.model_selection import train_test_split\n",
        "\n",
        "x,y = df.text, df.label\n",
        "x_train , x_test, y_train , y_test = train_test_split(x, y, test_size=0.2)"
      ],
      "metadata": {
        "id": "AjCeDz9QZndu"
      },
      "execution_count": 54,
      "outputs": []
    },
    {
      "cell_type": "code",
      "source": [
        "spamLabel = 1\n",
        "hamLabel = 0"
      ],
      "metadata": {
        "id": "enPwp6Hff7yM"
      },
      "execution_count": 56,
      "outputs": []
    },
    {
      "cell_type": "code",
      "source": [
        "def removeStopWords(email):\n",
        "    sw_english = stopwords.words('english')\n",
        "    tokens = word_tokenize(email)\n",
        "    cleaned_tokens = []\n",
        "    for word in tokens:\n",
        "        if word not in sw_english:\n",
        "            cleaned_tokens.append(word)\n",
        "    return \" \".join(cleaned_tokens)\n"
      ],
      "metadata": {
        "id": "H09y5e8jathc"
      },
      "execution_count": 55,
      "outputs": []
    },
    {
      "cell_type": "code",
      "source": [
        "def accuracy(predicted,original):  # take in predicted result as a list and match them with real labels to predict accuracy\n",
        "    inaccuracies = 0  # number of inaccurate predictions\n",
        "    for p, o in zip(predicted, original):  # zip merges predicted list and original list elements, iterate over them\n",
        "        if p != o:  # count inaccuracies\n",
        "            inaccuracies = inaccuracies + 1\n",
        "    return 1 - inaccuracies / float(len(predicted))  # return accuracy % divided by 100."
      ],
      "metadata": {
        "id": "4P_79eFQazDl"
      },
      "execution_count": 57,
      "outputs": []
    },
    {
      "cell_type": "code",
      "source": [
        "\n",
        "def get_data_list(folder_name):\n",
        "    email_collection = []  # Store list of emails\n",
        "    email_label = []  # Store corresponding labels\n",
        "    # Storing OS independent paths for spam and ham , to be used during training.\n",
        "    spamPath = os.path.join(folder_name, 'Spam') + os.sep\n",
        "    hamPath = os.path.join(folder_name, 'Ham') + os.sep\n",
        "    for folder_category in [hamPath, spamPath]:  # Running loop for different label of emails\n",
        "        for file in glob.glob(folder_category + \"*.txt\"):  # iterate over files in a folder\n",
        "            fileObject = open(file, \"r+\", encoding='utf-8', errors='ignore')  # open the file specified by a path\n",
        "            email = fileObject.read()  # read in the file containing the email and store the string.\n",
        "            email = email.lower()  # convert into lower case\n",
        "            email = removeStopWords(email)  # remove stop words\n",
        "            email_collection.append(email)  # add a email string to the list\n",
        "            if \"Ham\" in folder_category:  # depending on the folder we are reading the email from label them\n",
        "                email_label.append(hamLabel)\n",
        "            elif \"Spam\" in folder_category:\n",
        "                email_label.append(spamLabel)\n",
        "    return np.array(email_collection), np.array(email_label)  # return email array and corresponding labels"
      ],
      "metadata": {
        "id": "WI3ehPn1Z1r9"
      },
      "execution_count": 58,
      "outputs": []
    },
    {
      "cell_type": "code",
      "source": [
        "score = 0  # Store % inaccuracy divided by 100\n",
        "maxScore = 0  # Store maximum score achieved after cross validation\n",
        "maxMod = None  # Model corresponding to maximum possible cross validation score"
      ],
      "metadata": {
        "id": "WcEh9_BoaL5t"
      },
      "execution_count": 59,
      "outputs": []
    },
    {
      "cell_type": "code",
      "source": [
        "def score_model(model_object, count_vectorizer):  # this method performs cross validation and returns accuracy% / 100\n",
        "    test = count_vectorizer.transform(x_test)  # extract feature for cross validation data\n",
        "    accuracy_factor = accuracy(model_object.predict(test), y_test)  # send for getting accuracy % /100\n",
        "    return accuracy_factor\n"
      ],
      "metadata": {
        "id": "LECtQzfFbBwI"
      },
      "execution_count": 60,
      "outputs": []
    },
    {
      "cell_type": "code",
      "source": [
        "from sklearn.feature_extraction.text import CountVectorizer"
      ],
      "metadata": {
        "id": "-GRI-upZeUtB"
      },
      "execution_count": 61,
      "outputs": []
    },
    {
      "cell_type": "code",
      "source": [
        "cv = CountVectorizer()  # extract feature, here frequency of a word.\n",
        "features = cv.fit_transform(x_train)  # feature extraction of training data\n",
        "model = svm.SVC(kernel='linear').fit(features, y_train)  # training SVM model with linear Kernel\n",
        "curAcc = score_model(model_object=model, count_vectorizer=cv)  # cross validate\n",
        "print(\"Linear Kernel Accuracy:\" + str(curAcc))"
      ],
      "metadata": {
        "colab": {
          "base_uri": "https://localhost:8080/"
        },
        "id": "TRBIZW-dbGJv",
        "outputId": "656fe282-7900-4ebd-c2ed-77fc315022a4"
      },
      "execution_count": 62,
      "outputs": [
        {
          "output_type": "stream",
          "name": "stdout",
          "text": [
            "Linear Kernel Accuracy:0.9748792270531401\n"
          ]
        }
      ]
    },
    {
      "cell_type": "code",
      "source": [
        "if maxScore < curAcc:  # comparing accuracy with best model and store if necessary\n",
        "    maxScore = curAcc\n",
        "    maxMod = model\n",
        "for C in range(1, 12):  # training SVM model with rbf Kernel with C=1,2,3,4,5,6,7,8,9,10,11\n",
        "    model = svm.SVC(kernel='rbf', C=C).fit(features, y_train)  # train\n",
        "    curAcc = score_model(model_object=model, count_vectorizer=cv)  # cross validate\n",
        "    if maxScore < curAcc:  # comparing accuracy with best model and store if necessary\n",
        "        maxScore = curAcc\n",
        "        maxMod = model\n",
        "    print(\"RBF Kernel with C=\" + str(C) + \" Accuracy :\" + str(curAcc))"
      ],
      "metadata": {
        "colab": {
          "base_uri": "https://localhost:8080/"
        },
        "id": "dHvcphbgiKPg",
        "outputId": "f97b6ca4-05fc-4093-90fc-9a7ebcd6410f"
      },
      "execution_count": 66,
      "outputs": [
        {
          "output_type": "stream",
          "name": "stdout",
          "text": [
            "RBF Kernel with C=1 Accuracy :0.9690821256038648\n",
            "RBF Kernel with C=2 Accuracy :0.9690821256038648\n",
            "RBF Kernel with C=3 Accuracy :0.970048309178744\n",
            "RBF Kernel with C=4 Accuracy :0.9729468599033816\n",
            "RBF Kernel with C=5 Accuracy :0.9739130434782609\n",
            "RBF Kernel with C=6 Accuracy :0.9739130434782609\n",
            "RBF Kernel with C=7 Accuracy :0.9739130434782609\n",
            "RBF Kernel with C=8 Accuracy :0.9739130434782609\n",
            "RBF Kernel with C=9 Accuracy :0.9748792270531401\n",
            "RBF Kernel with C=10 Accuracy :0.9758454106280193\n",
            "RBF Kernel with C=11 Accuracy :0.9758454106280193\n"
          ]
        }
      ]
    },
    {
      "cell_type": "code",
      "source": [
        "for degree in range(2, 8):  # training SVM model with polynomial Kernel with degree=2,3,4,5,6,7\n",
        "    model = svm.SVC(kernel='poly', degree=degree).fit(features, y_train)\n",
        "    curAcc = score_model(model_object=model, count_vectorizer=cv)  # cross validate\n",
        "    if maxScore < curAcc:  # comparing accuracy with best model and store if necessary\n",
        "        maxScore = curAcc\n",
        "        maxMod = model\n",
        "    print(\"Polynomial Kernel, degree=\" + str(degree) + \" Accuracy:\" + str(curAcc))"
      ],
      "metadata": {
        "colab": {
          "base_uri": "https://localhost:8080/"
        },
        "id": "ETwwHfHVkYTb",
        "outputId": "ecbdac21-9852-46fd-e761-b2110c61a1eb"
      },
      "execution_count": 67,
      "outputs": [
        {
          "output_type": "stream",
          "name": "stdout",
          "text": [
            "Polynomial Kernel, degree=2 Accuracy:0.7188405797101449\n",
            "Polynomial Kernel, degree=3 Accuracy:0.7159420289855072\n",
            "Polynomial Kernel, degree=4 Accuracy:0.7130434782608696\n",
            "Polynomial Kernel, degree=5 Accuracy:0.7120772946859903\n",
            "Polynomial Kernel, degree=6 Accuracy:0.7072463768115942\n",
            "Polynomial Kernel, degree=7 Accuracy:0.7033816425120774\n"
          ]
        }
      ]
    },
    {
      "cell_type": "code",
      "source": [
        "import pickle\n",
        "filename_model = 'model.object'\n",
        "pickle.dump(maxMod, open(filename_model, 'wb'))  # store best model's  object to disk\n",
        "filename_cv = 'count_vectorizer.object'\n",
        "pickle.dump(cv, open(filename_cv, 'wb'))  # store feature extractor to disk"
      ],
      "metadata": {
        "id": "9vr0KiQzlipf"
      },
      "execution_count": 69,
      "outputs": []
    }
  ]
}
