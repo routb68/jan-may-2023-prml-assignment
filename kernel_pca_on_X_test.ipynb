{
  "nbformat": 4,
  "nbformat_minor": 0,
  "metadata": {
    "colab": {
      "provenance": [],
      "authorship_tag": "ABX9TyMl+GtHgm6eKus57BEJLyQA",
      "include_colab_link": true
    },
    "kernelspec": {
      "name": "python3",
      "display_name": "Python 3"
    },
    "language_info": {
      "name": "python"
    },
    "gpuClass": "standard"
  },
  "cells": [
    {
      "cell_type": "markdown",
      "metadata": {
        "id": "view-in-github",
        "colab_type": "text"
      },
      "source": [
        "<a href=\"https://colab.research.google.com/github/routb68/jan-may-2023-prml-assignment/blob/main/kernel_pca_on_X_test.ipynb\" target=\"_parent\"><img src=\"https://colab.research.google.com/assets/colab-badge.svg\" alt=\"Open In Colab\"/></a>"
      ]
    },
    {
      "cell_type": "markdown",
      "source": [
        "**Question**\n",
        "\n",
        "\n",
        "> *1.3 Write a piece of code to implement the Kernel PCA algorithm on this dataset. Use the following kernels :*\n",
        "\n",
        "\n",
        "\n",
        "> *a.   K(X,Y)=(1+Xᵀ Y)ᵈ for d={2,3,4}*\n",
        "\n",
        "\n",
        "> *b.   K(X,Y) = exp (−(X−Y)\\^ᵀ (X−Y))/2σ\\^2 for σ = {0.1,0.2,...,1}*\n",
        "\n",
        "\n",
        "> *Plot the projection of each point in the dataset onto the top-2 components for each kernel. Use one plot for each kernel and in the case of (B), use a different plot for each value of σ.*\n",
        "\n",
        "\n",
        "\n",
        "\n",
        "\n",
        "\n"
      ],
      "metadata": {
        "id": "8_b_eo6eLjSr"
      }
    },
    {
      "cell_type": "markdown",
      "source": [
        "**Importing libraries and Data downloding**"
      ],
      "metadata": {
        "id": "0vorMs3KLk9m"
      }
    },
    {
      "cell_type": "code",
      "execution_count": 1,
      "metadata": {
        "id": "azrXB08hndYV",
        "outputId": "9a57ae08-f73b-41ba-856e-96c973a12e8b",
        "colab": {
          "base_uri": "https://localhost:8080/"
        }
      },
      "outputs": [
        {
          "output_type": "stream",
          "name": "stdout",
          "text": [
            "Python 3.8.10\n",
            "numpy version 1.22.4\n",
            "Downloading data from https://storage.googleapis.com/tensorflow/tf-keras-datasets/mnist.npz\n",
            "11490434/11490434 [==============================] - 0s 0us/step\n",
            "x_train matrix shape (60000, 784)\n",
            "x_test matrix shape (10000, 784)\n",
            "np_x_train shape (60000, 784)\n",
            "np_x_train[0] datatype uint8\n",
            "np_x_train[0] datatype float64\n"
          ]
        }
      ],
      "source": [
        "!python --version\n",
        "import numpy as np\n",
        "print(\"numpy version\",np.version.version)\n",
        "import matplotlib.pyplot as plt \n",
        "from keras.datasets import mnist\n",
        "(x_train, y_train), (x_test, y_test) = mnist.load_data()\n",
        "x_train = x_train.reshape(60000, 784)\n",
        "x_test = x_test.reshape(10000, 784) \n",
        "print(\"x_train matrix shape\", x_train.shape)\n",
        "print(\"x_test matrix shape\", x_test.shape)\n",
        "np_x_train = np.array(x_train)\n",
        "np_x_test = np.array(x_test)\n",
        "print(\"np_x_train shape\", np_x_train.shape)\n",
        "print(\"np_x_train[0] datatype\", np_x_train[0].dtype)\n",
        "np_x_train = np_x_train.astype(np.float64)\n",
        "np_x_test = np_x_test.astype(np.float64)\n",
        "print(\"np_x_train[0] datatype\", np_x_train[0].dtype)"
      ]
    },
    {
      "cell_type": "markdown",
      "source": [
        "\n",
        "\n",
        "> In actual Kernel PCA algorithm we have to calculate the matrix multiplication of 𝐗𝐗ᵀ, but due to computational constarins on google colab we will be using X-Test data to do the same thing here where we will be using 𝐗𝐗ᵀ as covariance matrix to do all the further computations. \n",
        "\n"
      ],
      "metadata": {
        "id": "rIZlrSvYMdmW"
      }
    },
    {
      "cell_type": "code",
      "source": [
        "transposearray=np.transpose(np_x_test)\n",
        "print(\"np_x_test matrix shape\",np_x_test.shape)\n",
        "print(\"transposearray matrix shape\",transposearray.shape)\n",
        "k=np.matmul(np_x_test,transposearray)\n",
        "print(\"multiplied  matrix shape\",k.shape)"
      ],
      "metadata": {
        "colab": {
          "base_uri": "https://localhost:8080/"
        },
        "id": "WskCjD51ok7h",
        "outputId": "31d6adfa-2145-4462-b90c-fca2f988e1cb"
      },
      "execution_count": null,
      "outputs": [
        {
          "output_type": "stream",
          "name": "stdout",
          "text": [
            "np_x_test matrix shape (10000, 784)\n",
            "transposearray matrix shape (784, 10000)\n",
            "multiplied  matrix shape (10000, 10000)\n"
          ]
        }
      ]
    },
    {
      "cell_type": "markdown",
      "source": [
        "\n",
        "\n",
        "> Implementing Kernel PCA algorithm and we will be using this k matrix as our covariance matrix for kernel function  κ(x,y)=(1+xTy)d for d= 2\n",
        "\n"
      ],
      "metadata": {
        "id": "h0_myH-ZNVRi"
      }
    },
    {
      "cell_type": "code",
      "source": [
        "for i in range(10000):\n",
        "    for j in range(10000):\n",
        "        k[i][j]+=1\n",
        "for i in range(10000):\n",
        "    for j in range(10000):\n",
        "        k[i][j]=k[i][j]*k[i][j]\n",
        "I=np.identity(10000) \n",
        "print(\"Identity matrix shape\",I.shape)\n",
        "div=1/10000\n",
        "divmat=np.full((10000,10000), div)\n",
        "print(\"divmat matrix shape\",divmat.shape)\n",
        "matminus = np.subtract(I, divmat) \n",
        "print(\"matminus matrix shape\",matminus.shape)\n",
        "f=np.matmul(matminus, k)\n",
        "print(\"f matrix shape\",f.shape)\n",
        "kernalcent=np.matmul(f, matminus)\n",
        "print(\"kernalcent matrix shape\",kernalcent.shape)"
      ],
      "metadata": {
        "id": "wAKvZWHxqspo",
        "outputId": "6af2594b-81e0-4595-9971-1ff98dec9209",
        "colab": {
          "base_uri": "https://localhost:8080/"
        }
      },
      "execution_count": null,
      "outputs": [
        {
          "output_type": "stream",
          "name": "stdout",
          "text": [
            "Identity matrix shape (10000, 10000)\n",
            "divmat matrix shape (10000, 10000)\n",
            "matminus matrix shape (10000, 10000)\n",
            "f matrix shape (10000, 10000)\n",
            "kernalcent matrix shape (10000, 10000)\n"
          ]
        }
      ]
    },
    {
      "cell_type": "markdown",
      "source": [
        "\n",
        "\n",
        "> Computing eigen values and eigen vectors with numpy linalg.eig\n",
        "\n"
      ],
      "metadata": {
        "id": "ElJxXL-MN300"
      }
    },
    {
      "cell_type": "code",
      "source": [
        "eig_vals, eig_vecs = np.linalg.eig(kernalcent)"
      ],
      "metadata": {
        "id": "Xxec9hv-ruTz"
      },
      "execution_count": null,
      "outputs": []
    },
    {
      "cell_type": "markdown",
      "source": [
        "\n",
        "\n",
        "> Printing eigen value vector shape, eigen vector shape and 20 top eigen values of Kernel PCA \n",
        "\n"
      ],
      "metadata": {
        "id": "lCgkfFhZN-h0"
      }
    },
    {
      "cell_type": "code",
      "source": [
        "print(\"eigen vector shape\",eig_vecs.shape)\n",
        "print(\"eigenvalues  vector shape\",eig_vals.shape)\n",
        "for i in range (20):\n",
        "  print(f\"{i+1} th eigen value is - {np.real(eig_vals[i])}\")"
      ],
      "metadata": {
        "colab": {
          "base_uri": "https://localhost:8080/"
        },
        "id": "sV3-74Hdrwpr",
        "outputId": "d89bfde8-97ed-42fe-c73d-472b9ccfb704"
      },
      "execution_count": null,
      "outputs": [
        {
          "output_type": "stream",
          "name": "stdout",
          "text": [
            "eigen vector shape (10000, 10000)\n",
            "eigenvalues  vector shape (10000,)\n",
            "1 th eigen value is - 2.937058367810468e+16\n",
            "2 th eigen value is - 1.5878772826169484e+16\n",
            "3 th eigen value is - 1.456836255270512e+16\n",
            "4 th eigen value is - 1.2973999479500286e+16\n",
            "5 th eigen value is - 1.2226869158107738e+16\n",
            "6 th eigen value is - 9146911596731142.0\n",
            "7 th eigen value is - 7005641874852077.0\n",
            "8 th eigen value is - 6677522052940821.0\n",
            "9 th eigen value is - 5812567974517031.0\n",
            "10 th eigen value is - 5067498600964866.0\n",
            "11 th eigen value is - 4648686647219761.0\n",
            "12 th eigen value is - 4525274083637087.0\n",
            "13 th eigen value is - 3792124562296915.0\n",
            "14 th eigen value is - 3552264234891776.0\n",
            "15 th eigen value is - 3427330216660478.5\n",
            "16 th eigen value is - 3277769220322865.5\n",
            "17 th eigen value is - 2991361055725251.5\n",
            "18 th eigen value is - 2823995380103566.0\n",
            "19 th eigen value is - 2673482797658120.5\n",
            "20 th eigen value is - 2572269467535199.5\n"
          ]
        }
      ]
    },
    {
      "cell_type": "code",
      "source": [
        "variance = 0\n",
        "for i in range (10000):\n",
        "  variance = ( variance + np.real(eig_vals[i]))\n",
        "print(\"Total variance equal to  \",variance)\n",
        "var95 = 0\n",
        "dimension = 0\n",
        "for i in range (10000):\n",
        "  var95 = (var95 + np.real(eig_vals[i]))\n",
        "  if(var95 >= (0.95 * variance)):\n",
        "    dimension = i\n",
        "    break;\n",
        "print(\"95% variance is equal to  \",var95)\n",
        "print(\"chaecking ratio of var95/total variance  \",var95/variance)\n",
        "print(\"number of dimensions requred to capture 95% variance  \",dimension)\n",
        "a = 0\n",
        "a = a + np.real(eig_vals[0])\n",
        "a = a + np.real(eig_vals[1])\n",
        "print(\"Top 2 directions cumulative variance is equal to  \",a)\n",
        "print(\"Top 2 directions cumulative % variance is equal to  \",100*(a/variance))"
      ],
      "metadata": {
        "id": "iDOf6BcMSMCx",
        "outputId": "01a424db-919d-4bfe-c910-955dbd3df2c6",
        "colab": {
          "base_uri": "https://localhost:8080/"
        }
      },
      "execution_count": null,
      "outputs": [
        {
          "output_type": "stream",
          "name": "stdout",
          "text": [
            "Total variance equal to   3.1194120406633446e+17\n",
            "95% variance is equal to   2.9635319843875674e+17\n",
            "chaecking ratio of var95/total variance   0.9500290265460958\n",
            "number of dimensions requred to capture 95% variance   1766\n",
            "Top 2 directions cumulative variance is equal to   4.524935650427416e+16\n",
            "Top 2 directions cumulative % variance is equal to   14.505732463176574\n"
          ]
        }
      ]
    },
    {
      "cell_type": "markdown",
      "source": [
        "\n",
        "\n",
        "> Ploting the projection of each point in the dataset onto the top-2 components for kernel.\n",
        "\n"
      ],
      "metadata": {
        "id": "-vwOwNRjSsTq"
      }
    },
    {
      "cell_type": "code",
      "source": [
        "eig_vecs = eig_vecs.transpose()\n",
        "eigenval1=eig_vals[0]\n",
        "eigenval2=eig_vals[1]\n",
        "eigenvec1=eig_vecs[0]\n",
        "eigenvec2=eig_vecs[1]\n",
        "import math \n",
        "e1=math.sqrt(eigenval1)\n",
        "e2=math.sqrt(eigenval2)\n",
        "alpha1=np.divide(eigenvec1, e1)\n",
        "alpha2=np.divide(eigenvec2, e2)\n",
        "c1=np.matmul(kernalcent, alpha1)\n",
        "c2=np.matmul(kernalcent, alpha2)\n",
        "print(\"c1 matrix shape\",c1.shape)\n",
        "print(\"c2 matrix shape\",c2.shape)"
      ],
      "metadata": {
        "id": "4F-KQiyRMI4w",
        "outputId": "892cf4a9-0314-47a8-80a1-5d594e55062d",
        "colab": {
          "base_uri": "https://localhost:8080/"
        }
      },
      "execution_count": null,
      "outputs": [
        {
          "output_type": "stream",
          "name": "stdout",
          "text": [
            "c1 matrix shape (10000,)\n",
            "c2 matrix shape (10000,)\n"
          ]
        }
      ]
    },
    {
      "cell_type": "code",
      "source": [
        "plt.scatter(c1,c2)"
      ],
      "metadata": {
        "colab": {
          "base_uri": "https://localhost:8080/",
          "height": 306
        },
        "id": "l2lA4XtyMUAH",
        "outputId": "95e58a8d-381d-4899-a596-af6ce632389c"
      },
      "execution_count": null,
      "outputs": [
        {
          "output_type": "execute_result",
          "data": {
            "text/plain": [
              "<matplotlib.collections.PathCollection at 0x7fa2214deaf0>"
            ]
          },
          "metadata": {},
          "execution_count": 12
        },
        {
          "output_type": "display_data",
          "data": {
            "text/plain": [
              "<Figure size 432x288 with 1 Axes>"
            ],
            "image/png": "[encoded data removed]"
          },
          "metadata": {
            "needs_background": "light"
          }
        }
      ]
    },
    {
      "cell_type": "markdown",
      "source": [
        "\n",
        "\n",
        "> Implementing Kernel PCA algorithm and we will be using this k matrix as our covariance matrix for kernel function  K(X,Y)=(1+Xᵀ Y)ᵈ for d= 3 and Ploting the projection of each point in the dataset onto the top-2 components for kernel.\n",
        "\n"
      ],
      "metadata": {
        "id": "21AkYkkBI39B"
      }
    },
    {
      "cell_type": "code",
      "source": [
        "transposearray=np.transpose(np_x_test)\n",
        "k=np.matmul(np_x_test, transposearray)\n",
        "for i in range(10000):\n",
        "    for j in range(10000):\n",
        "        k[i][j]+=1 \n",
        "for i in range(10000):\n",
        "    for j in range(10000):\n",
        "        k[i][j]=k[i][j]*k[i][j]*k[i][j]\n",
        "I=np.identity(10000) \n",
        "div=1/10000\n",
        "divmat=np.full((10000,10000), div)\n",
        "matminus = np.subtract(I, divmat) \n",
        "f=np.matmul(matminus, k)\n",
        "kernalcent=np.matmul(f, matminus)\n",
        "eig_vals, eig_vecs = np.linalg.eig(kernalcent)\n",
        "eig_vecs = eig_vecs.transpose()\n",
        "maxindex=np.argmax(eig_vals)\n",
        "eigenval1=eig_vals[maxindex]\n",
        "eigenvec1=eig_vecs[maxindex]\n",
        "eig_vals=np.delete(eig_vals,maxindex,axis=0)\n",
        "eig_vecs=np.delete(eig_vecs,maxindex,axis=0)\n",
        "maxindex=np.argmax(eig_vals)\n",
        "eigenval2=eig_vals[maxindex]\n",
        "eigenvec2=eig_vecs[maxindex]\n",
        "e1=math.sqrt(eigenval1)\n",
        "e2=math.sqrt(eigenval2)\n",
        "alpha1=np.divide(eigenvec1, e1)\n",
        "alpha2=np.divide(eigenvec2, e2)\n",
        "c1=np.matmul(kernalcent, alpha1)\n",
        "c2=np.matmul(kernalcent, alpha2)\n",
        "\n",
        "plt.scatter(c1,c2)"
      ],
      "metadata": {
        "id": "LIadkXShT2By",
        "outputId": "39371d82-0277-4850-b869-3a6c2017860c",
        "colab": {
          "base_uri": "https://localhost:8080/",
          "height": 306
        }
      },
      "execution_count": null,
      "outputs": [
        {
          "output_type": "execute_result",
          "data": {
            "text/plain": [
              "<matplotlib.collections.PathCollection at 0x7fa221206700>"
            ]
          },
          "metadata": {},
          "execution_count": 15
        },
        {
          "output_type": "display_data",
          "data": {
            "text/plain": [
              "<Figure size 432x288 with 1 Axes>"
            ],
            "image/png": "[encoded data removed]"
          },
          "metadata": {
            "needs_background": "light"
          }
        }
      ]
    },
    {
      "cell_type": "markdown",
      "source": [
        "\n",
        "\n",
        "> Implementing Kernel PCA algorithm and we will be using this k matrix as our covariance matrix for kernel function  K(X,Y)=(1+Xᵀ Y)ᵈ for d= 4 and Ploting the projection of each point in the dataset onto the top-2 components for kernel.\n",
        "\n"
      ],
      "metadata": {
        "id": "SIxM8uemJBPb"
      }
    },
    {
      "cell_type": "code",
      "source": [
        "transposearray=np.transpose(np_x_test)\n",
        "k=np.matmul(np_x_test, transposearray)\n",
        "for i in range(10000):\n",
        "    for j in range(10000):\n",
        "        k[i][j]+=1 \n",
        "for i in range(10000):\n",
        "    for j in range(10000):\n",
        "        k[i][j]=k[i][j]*k[i][j]*k[i][j]*k[i][j]\n",
        "I=np.identity(10000) \n",
        "div=1/10000\n",
        "divmat=np.full((10000,10000), div)\n",
        "matminus = np.subtract(I, divmat) \n",
        "f=np.matmul(matminus, k)\n",
        "kernalcent=np.matmul(f, matminus)\n",
        "eig_vals, eig_vecs = np.linalg.eig(kernalcent)\n",
        "eig_vecs = eig_vecs.transpose()\n",
        "maxindex=np.argmax(eig_vals)\n",
        "eigenval1=eig_vals[maxindex]\n",
        "eigenvec1=eig_vecs[maxindex]\n",
        "eig_vals=np.delete(eig_vals,maxindex,axis=0)\n",
        "eig_vecs=np.delete(eig_vecs,maxindex,axis=0)\n",
        "maxindex=np.argmax(eig_vals)\n",
        "eigenval2=eig_vals[maxindex]\n",
        "eigenvec2=eig_vecs[maxindex]"
      ],
      "metadata": {
        "id": "7lhBATlJCPAZ"
      },
      "execution_count": null,
      "outputs": []
    },
    {
      "cell_type": "code",
      "source": [
        "import math\n",
        "e1=math.sqrt(eigenval1)\n",
        "e2=math.sqrt(eigenval2)\n",
        "alpha1=np.divide(eigenvec1, e1)\n",
        "alpha2=np.divide(eigenvec2, e2)\n",
        "c1=np.matmul(kernalcent, alpha1)\n",
        "c2=np.matmul(kernalcent, alpha2)\n",
        "\n",
        "plt.scatter(c1,c2)"
      ],
      "metadata": {
        "colab": {
          "base_uri": "https://localhost:8080/",
          "height": 306
        },
        "id": "g_c6a4cHIAaR",
        "outputId": "493f07eb-2cff-4be1-e64a-d459753eee7a"
      },
      "execution_count": 3,
      "outputs": [
        {
          "output_type": "execute_result",
          "data": {
            "text/plain": [
              "<matplotlib.collections.PathCollection at 0x7f11f1a4fb80>"
            ]
          },
          "metadata": {},
          "execution_count": 3
        },
        {
          "output_type": "display_data",
          "data": {
            "text/plain": [
              "<Figure size 432x288 with 1 Axes>"
            ],
            "image/png": "[encoded data removed]"
          },
          "metadata": {
            "needs_background": "light"
          }
        }
      ]
    },
    {
      "cell_type": "markdown",
      "source": [
        "\n",
        "\n",
        "> Implementing Kernel PCA algorithm and we will be using this k matrix as our covariance matrix for kernel function    K(X,Y) = exp (−(X−Y)ᵀ (X−Y))/2σ\\^2 for σ = 0.1 and Ploting the projection of each point in the dataset onto the top-2 components for kernel.\n",
        "\n"
      ],
      "metadata": {
        "id": "42jH2b54JO2W"
      }
    },
    {
      "cell_type": "code",
      "source": [
        "array = np_x_test\n",
        "tempmat=np.zeros([10000,10000])\n",
        "sigma=0.1\n",
        "div = sigma**2\n",
        "div *= -2\n",
        "\n",
        "for i in range(10000):\n",
        "    for j in range(10000):\n",
        "        x = array[i]\n",
        "        y = array[j]\n",
        "        sub = np.subtract(x,y)\n",
        "        var = np.matmul(sub, sub.transpose())\n",
        "        var = var / (2*sigma*sigma)\n",
        "        var = np.exp(-1*var)\n",
        "        tempmat[i][j] = var\n",
        "x = array[2]\n",
        "y = array[3]\n",
        "sub = np.subtract(x,y)\n",
        "var = np.matmul(sub, sub.transpose())\n",
        "var = var / (2*sigma*sigma)\n",
        "var = np.exp(-1*var)\n",
        "\n",
        "k = tempmat\n",
        "I=np.identity(10000)\n",
        "div=1/10000\n",
        "divmat=np.full((10000,10000), div)\n",
        "divmat\n",
        "\n",
        "\n",
        "matminus = np.subtract(I, divmat) \n",
        "f=np.matmul(matminus, k)\n",
        "kernalcent=np.matmul(f, matminus)\n",
        "eig_vals, eig_vecs = np.linalg.eig(kernalcent)\n",
        "eig_vecs = eig_vecs.transpose()\n",
        "\n",
        "maxindex=np.argmax(eig_vals)\n",
        "eigenval1=eig_vals[maxindex]\n",
        "eigenvec1=eig_vecs[maxindex]\n",
        "eig_vals=np.delete(eig_vals,maxindex,axis=0)\n",
        "eig_vecs=np.delete(eig_vecs,maxindex,axis=0)\n",
        "maxindex=np.argmax(eig_vals)\n",
        "eigenval2=eig_vals[maxindex]\n",
        "eigenvec2=eig_vecs[maxindex]\n",
        "\n",
        "\n",
        "import math \n",
        "e1=math.sqrt(eigenval1)\n",
        "e2=math.sqrt(eigenval2)\n",
        "alpha1=np.divide(eigenvec1, e1)\n",
        "alpha2=np.divide(eigenvec2, e2)\n",
        "\n",
        "\n",
        "c1=np.matmul(kernalcent, alpha1)\n",
        "c2=np.matmul(kernalcent, alpha2)\n",
        "\n",
        "\n",
        "plt.scatter(c1,c2)\n"
      ],
      "metadata": {
        "id": "MO37UzPyYJk7",
        "outputId": "c8a2fad9-e8dd-43e7-e556-e3a0842c0fbb",
        "colab": {
          "base_uri": "https://localhost:8080/",
          "height": 404
        }
      },
      "execution_count": null,
      "outputs": [
        {
          "output_type": "stream",
          "name": "stderr",
          "text": [
            "<ipython-input-16-898bdf709e6a>:47: ComplexWarning: Casting complex values to real discards the imaginary part\n",
            "  e1=math.sqrt(eigenval1)\n",
            "<ipython-input-16-898bdf709e6a>:48: ComplexWarning: Casting complex values to real discards the imaginary part\n",
            "  e2=math.sqrt(eigenval2)\n",
            "/usr/local/lib/python3.8/dist-packages/matplotlib/collections.py:196: ComplexWarning: Casting complex values to real discards the imaginary part\n",
            "  offsets = np.asanyarray(offsets, float)\n"
          ]
        },
        {
          "output_type": "execute_result",
          "data": {
            "text/plain": [
              "<matplotlib.collections.PathCollection at 0x7fa221183820>"
            ]
          },
          "metadata": {},
          "execution_count": 16
        },
        {
          "output_type": "display_data",
          "data": {
            "text/plain": [
              "<Figure size 432x288 with 1 Axes>"
            ],
            "image/png": "[encoded data removed]"
          },
          "metadata": {
            "needs_background": "light"
          }
        }
      ]
    },
    {
      "cell_type": "markdown",
      "source": [
        "\n",
        "\n",
        "> Again implementing Kernel PCA algorithm for less data points and we will be using this k matrix as our covariance matrix for kernel function  K(X,Y) = exp (−(X−Y)ᵀ (X−Y))/2σ\\^2  for σ = 0.1 and Ploting the projection of each point in the dataset onto the top-2 components for kernel.\n",
        "\n",
        "\n",
        "\n",
        "> Now using less number of data as computation for whole x_test data set taking more time. For one set of calculation it's taking O(10000)^3 order computations as d^3 calculations for eigen vector and eigen value calculations, so we will be using like 300 or 100 data points for furthur repeetative calculations.\n",
        "\n"
      ],
      "metadata": {
        "id": "_-YtNshUJu9u"
      }
    },
    {
      "cell_type": "code",
      "source": [
        "array = np.empty((300,784),dtype=np.float64)\n",
        "for i in range (300):\n",
        "  array[i] = np_x_test[i]\n",
        "tempmat=np.zeros([300,300])\n",
        "sigma=0.1\n",
        "div = sigma**2\n",
        "div *= -2\n",
        "\n",
        "for i in range(300):\n",
        "    for j in range(300):\n",
        "        x = array[i]\n",
        "        y = array[j]\n",
        "        sub = np.subtract(x,y)\n",
        "        var = np.matmul(sub, sub.transpose())\n",
        "        var = var / (2*sigma*sigma)\n",
        "        var = np.exp(-1*var)\n",
        "        tempmat[i][j] = var\n",
        "x = array[2]\n",
        "y = array[3]\n",
        "sub = np.subtract(x,y)\n",
        "var = np.matmul(sub, sub.transpose())\n",
        "var = var / (2*sigma*sigma)\n",
        "var = np.exp(-1*var)\n",
        "\n",
        "k = tempmat\n",
        "I=np.identity(300)\n",
        "div=1/300\n",
        "divmat=np.full((300,300), div)\n",
        "divmat\n",
        "\n",
        "\n",
        "matminus = np.subtract(I, divmat) \n",
        "f=np.matmul(matminus, k)\n",
        "kernalcent=np.matmul(f, matminus)\n",
        "eig_vals, eig_vecs = np.linalg.eig(kernalcent)\n",
        "eig_vecs = eig_vecs.transpose()\n",
        "\n",
        "maxindex=np.argmax(eig_vals)\n",
        "eigenval1=eig_vals[maxindex]\n",
        "eigenvec1=eig_vecs[maxindex]\n",
        "eig_vals=np.delete(eig_vals,maxindex,axis=0)\n",
        "eig_vecs=np.delete(eig_vecs,maxindex,axis=0)\n",
        "maxindex=np.argmax(eig_vals)\n",
        "eigenval2=eig_vals[maxindex]\n",
        "eigenvec2=eig_vecs[maxindex]\n",
        "\n",
        "\n",
        "import math \n",
        "e1=math.sqrt(eigenval1)\n",
        "e2=math.sqrt(eigenval2)\n",
        "alpha1=np.divide(eigenvec1, e1)\n",
        "alpha2=np.divide(eigenvec2, e2)\n",
        "\n",
        "\n",
        "c1=np.matmul(kernalcent, alpha1)\n",
        "c2=np.matmul(kernalcent, alpha2)\n",
        "\n",
        "print(\"ploting for sigma equal to \",sigma)\n",
        "plt.scatter(c1,c2)\n"
      ],
      "metadata": {
        "colab": {
          "base_uri": "https://localhost:8080/",
          "height": 367
        },
        "id": "4ySQcS7jnQUc",
        "outputId": "632f2c39-d85b-4b18-f4b5-2f2163d62885"
      },
      "execution_count": null,
      "outputs": [
        {
          "output_type": "stream",
          "name": "stdout",
          "text": [
            "ploting for sigma equal to  0.1\n"
          ]
        },
        {
          "output_type": "stream",
          "name": "stderr",
          "text": [
            "<ipython-input-15-5c34bf7fcad3>:49: ComplexWarning: Casting complex values to real discards the imaginary part\n",
            "  e1=math.sqrt(eigenval1)\n",
            "<ipython-input-15-5c34bf7fcad3>:50: ComplexWarning: Casting complex values to real discards the imaginary part\n",
            "  e2=math.sqrt(eigenval2)\n"
          ]
        },
        {
          "output_type": "execute_result",
          "data": {
            "text/plain": [
              "<matplotlib.collections.PathCollection at 0x7f83ad46adf0>"
            ]
          },
          "metadata": {},
          "execution_count": 15
        },
        {
          "output_type": "display_data",
          "data": {
            "text/plain": [
              "<Figure size 432x288 with 1 Axes>"
            ],
            "image/png": "[encoded data removed]"
          },
          "metadata": {
            "needs_background": "light"
          }
        }
      ]
    },
    {
      "cell_type": "markdown",
      "source": [
        "\n",
        "\n",
        "> Implementing Kernel PCA algorithm and we will be using this k matrix as our covariance matrix for kernel function K(X,Y) = exp (−(X−Y)ᵀ (X−Y))/2σ\\^2  for σ = 0.2 and Ploting the projection of each point in the dataset onto the top-2 components for kernel.\n",
        "\n"
      ],
      "metadata": {
        "id": "j_s1LpizLJr_"
      }
    },
    {
      "cell_type": "code",
      "source": [
        "array = np.empty((300,784),dtype=np.float64)\n",
        "for i in range (300):\n",
        "  array[i] = np_x_test[i]\n",
        "tempmat=np.zeros([300,300])\n",
        "sigma=0.2\n",
        "div = sigma**2\n",
        "div *= -2\n",
        "\n",
        "for i in range(300):\n",
        "    for j in range(300):\n",
        "        x = array[i]\n",
        "        y = array[j]\n",
        "        sub = np.subtract(x,y)\n",
        "        var = np.matmul(sub, sub.transpose())\n",
        "        var = var / (2*sigma*sigma)\n",
        "        var = np.exp(-1*var)\n",
        "        tempmat[i][j] = var\n",
        "x = array[2]\n",
        "y = array[3]\n",
        "sub = np.subtract(x,y)\n",
        "var = np.matmul(sub, sub.transpose())\n",
        "var = var / (2*sigma*sigma)\n",
        "var = np.exp(-1*var)\n",
        "\n",
        "k = tempmat\n",
        "I=np.identity(300)\n",
        "div=1/300\n",
        "divmat=np.full((300,300), div)\n",
        "divmat\n",
        "\n",
        "\n",
        "matminus = np.subtract(I, divmat) \n",
        "f=np.matmul(matminus, k)\n",
        "kernalcent=np.matmul(f, matminus)\n",
        "eig_vals, eig_vecs = np.linalg.eig(kernalcent)\n",
        "eig_vecs = eig_vecs.transpose()\n",
        "\n",
        "maxindex=np.argmax(eig_vals)\n",
        "eigenval1=eig_vals[maxindex]\n",
        "eigenvec1=eig_vecs[maxindex]\n",
        "eig_vals=np.delete(eig_vals,maxindex,axis=0)\n",
        "eig_vecs=np.delete(eig_vecs,maxindex,axis=0)\n",
        "maxindex=np.argmax(eig_vals)\n",
        "eigenval2=eig_vals[maxindex]\n",
        "eigenvec2=eig_vecs[maxindex]\n",
        "\n",
        "\n",
        "import math \n",
        "e1=math.sqrt(eigenval1)\n",
        "e2=math.sqrt(eigenval2)\n",
        "alpha1=np.divide(eigenvec1, e1)\n",
        "alpha2=np.divide(eigenvec2, e2)\n",
        "\n",
        "\n",
        "c1=np.matmul(kernalcent, alpha1)\n",
        "c2=np.matmul(kernalcent, alpha2)\n",
        "\n",
        "print(\"ploting for sigma equal to \",sigma)\n",
        "plt.scatter(c1,c2)\n"
      ],
      "metadata": {
        "colab": {
          "base_uri": "https://localhost:8080/",
          "height": 367
        },
        "id": "a2EdcBE-qI49",
        "outputId": "fe6074e1-95dc-41bf-faec-1d95f2e7bf1b"
      },
      "execution_count": null,
      "outputs": [
        {
          "output_type": "stream",
          "name": "stdout",
          "text": [
            "ploting for sigma equal to  0.2\n"
          ]
        },
        {
          "output_type": "stream",
          "name": "stderr",
          "text": [
            "<ipython-input-14-e8a0777a747d>:49: ComplexWarning: Casting complex values to real discards the imaginary part\n",
            "  e1=math.sqrt(eigenval1)\n",
            "<ipython-input-14-e8a0777a747d>:50: ComplexWarning: Casting complex values to real discards the imaginary part\n",
            "  e2=math.sqrt(eigenval2)\n"
          ]
        },
        {
          "output_type": "execute_result",
          "data": {
            "text/plain": [
              "<matplotlib.collections.PathCollection at 0x7f83ad4fbe50>"
            ]
          },
          "metadata": {},
          "execution_count": 14
        },
        {
          "output_type": "display_data",
          "data": {
            "text/plain": [
              "<Figure size 432x288 with 1 Axes>"
            ],
            "image/png": "[encoded data removed]"
          },
          "metadata": {
            "needs_background": "light"
          }
        }
      ]
    },
    {
      "cell_type": "markdown",
      "source": [
        "\n",
        "\n",
        "> Implementing Kernel PCA algorithm and we will be using this k matrix as our covariance matrix for kernel function  K(X,Y) = exp (−(X−Y)ᵀ (X−Y))/2σ\\^2  for σ = 0.3 and Ploting the projection of each point in the dataset onto the top-2 components for kernel.\n",
        "\n"
      ],
      "metadata": {
        "id": "9y-WYm9ELPLy"
      }
    },
    {
      "cell_type": "code",
      "source": [
        "array = np.empty((300,784),dtype=np.float64)\n",
        "for i in range (300):\n",
        "  array[i] = np_x_train[i]\n",
        "tempmat=np.zeros([300,300])\n",
        "sigma=0.3\n",
        "div = sigma**2\n",
        "div *= -2\n",
        "\n",
        "for i in range(300):\n",
        "    for j in range(300):\n",
        "        x = array[i]\n",
        "        y = array[j]\n",
        "        sub = np.subtract(x,y)\n",
        "        var = np.matmul(sub, sub.transpose())\n",
        "        var = var / (2*sigma*sigma)\n",
        "        var = np.exp(-1*var)\n",
        "        tempmat[i][j] = var\n",
        "x = array[2]\n",
        "y = array[3]\n",
        "sub = np.subtract(x,y)\n",
        "var = np.matmul(sub, sub.transpose())\n",
        "var = var / (2*sigma*sigma)\n",
        "var = np.exp(-1*var)\n",
        "\n",
        "k = tempmat\n",
        "I=np.identity(300)\n",
        "div=1/300\n",
        "divmat=np.full((300,300), div)\n",
        "divmat\n",
        "\n",
        "\n",
        "matminus = np.subtract(I, divmat) \n",
        "f=np.matmul(matminus, k)\n",
        "kernalcent=np.matmul(f, matminus)\n",
        "eig_vals, eig_vecs = np.linalg.eig(kernalcent)\n",
        "eig_vecs = eig_vecs.transpose()\n",
        "\n",
        "maxindex=np.argmax(eig_vals)\n",
        "eigenval1=eig_vals[maxindex]\n",
        "eigenvec1=eig_vecs[maxindex]\n",
        "eig_vals=np.delete(eig_vals,maxindex,axis=0)\n",
        "eig_vecs=np.delete(eig_vecs,maxindex,axis=0)\n",
        "maxindex=np.argmax(eig_vals)\n",
        "eigenval2=eig_vals[maxindex]\n",
        "eigenvec2=eig_vecs[maxindex]\n",
        "\n",
        "\n",
        "import math \n",
        "e1=math.sqrt(eigenval1)\n",
        "e2=math.sqrt(eigenval2)\n",
        "alpha1=np.divide(eigenvec1, e1)\n",
        "alpha2=np.divide(eigenvec2, e2)\n",
        "\n",
        "\n",
        "c1=np.matmul(kernalcent, alpha1)\n",
        "c2=np.matmul(kernalcent, alpha2)\n",
        "\n",
        "print(\"ploting for sigma equal to \",sigma)\n",
        "plt.scatter(c1,c2)\n"
      ],
      "metadata": {
        "colab": {
          "base_uri": "https://localhost:8080/",
          "height": 401
        },
        "id": "o5e9IhnPqO5m",
        "outputId": "9d3df5a3-6649-496e-f853-1182f42a345c"
      },
      "execution_count": null,
      "outputs": [
        {
          "output_type": "stream",
          "name": "stdout",
          "text": [
            "ploting for sigma equal to  0.3\n"
          ]
        },
        {
          "output_type": "stream",
          "name": "stderr",
          "text": [
            "<ipython-input-13-aa1fa125d792>:49: ComplexWarning: Casting complex values to real discards the imaginary part\n",
            "  e1=math.sqrt(eigenval1)\n",
            "<ipython-input-13-aa1fa125d792>:50: ComplexWarning: Casting complex values to real discards the imaginary part\n",
            "  e2=math.sqrt(eigenval2)\n",
            "/usr/local/lib/python3.8/dist-packages/matplotlib/collections.py:196: ComplexWarning: Casting complex values to real discards the imaginary part\n",
            "  offsets = np.asanyarray(offsets, float)\n"
          ]
        },
        {
          "output_type": "execute_result",
          "data": {
            "text/plain": [
              "<matplotlib.collections.PathCollection at 0x7f83ad50f130>"
            ]
          },
          "metadata": {},
          "execution_count": 13
        },
        {
          "output_type": "display_data",
          "data": {
            "text/plain": [
              "<Figure size 432x288 with 1 Axes>"
            ],
            "image/png": "[encoded data removed]"
          },
          "metadata": {
            "needs_background": "light"
          }
        }
      ]
    },
    {
      "cell_type": "markdown",
      "source": [
        "\n",
        "\n",
        "> Implementing Kernel PCA algorithm and we will be using this k matrix as our covariance matrix for kernel function  K(X,Y) = exp (−(X−Y)ᵀ (X−Y))/2σ\\^2  for σ = 0.4 and Ploting the projection of each point in the dataset onto the top-2 components for kernel.\n",
        "\n"
      ],
      "metadata": {
        "id": "ueCj0pDRLShX"
      }
    },
    {
      "cell_type": "code",
      "source": [
        "array = np.empty((300,784),dtype=np.float64)\n",
        "for i in range (300):\n",
        "  array[i] = np_x_train[i]\n",
        "tempmat=np.zeros([300,300])\n",
        "sigma=0.4\n",
        "div = sigma**2\n",
        "div *= -2\n",
        "\n",
        "for i in range(300):\n",
        "    for j in range(300):\n",
        "        x = array[i]\n",
        "        y = array[j]\n",
        "        sub = np.subtract(x,y)\n",
        "        var = np.matmul(sub, sub.transpose())\n",
        "        var = var / (2*sigma*sigma)\n",
        "        var = np.exp(-1*var)\n",
        "        tempmat[i][j] = var\n",
        "x = array[2]\n",
        "y = array[3]\n",
        "sub = np.subtract(x,y)\n",
        "var = np.matmul(sub, sub.transpose())\n",
        "var = var / (2*sigma*sigma)\n",
        "var = np.exp(-1*var)\n",
        "\n",
        "k = tempmat\n",
        "I=np.identity(300)\n",
        "div=1/300\n",
        "divmat=np.full((300,300), div)\n",
        "divmat\n",
        "\n",
        "\n",
        "matminus = np.subtract(I, divmat) \n",
        "f=np.matmul(matminus, k)\n",
        "kernalcent=np.matmul(f, matminus)\n",
        "eig_vals, eig_vecs = np.linalg.eig(kernalcent)\n",
        "eig_vecs = eig_vecs.transpose()\n",
        "\n",
        "maxindex=np.argmax(eig_vals)\n",
        "eigenval1=eig_vals[maxindex]\n",
        "eigenvec1=eig_vecs[maxindex]\n",
        "eig_vals=np.delete(eig_vals,maxindex,axis=0)\n",
        "eig_vecs=np.delete(eig_vecs,maxindex,axis=0)\n",
        "maxindex=np.argmax(eig_vals)\n",
        "eigenval2=eig_vals[maxindex]\n",
        "eigenvec2=eig_vecs[maxindex]\n",
        "\n",
        "\n",
        "import math \n",
        "e1=math.sqrt(eigenval1)\n",
        "e2=math.sqrt(eigenval2)\n",
        "alpha1=np.divide(eigenvec1, e1)\n",
        "alpha2=np.divide(eigenvec2, e2)\n",
        "\n",
        "\n",
        "c1=np.matmul(kernalcent, alpha1)\n",
        "c2=np.matmul(kernalcent, alpha2)\n",
        "\n",
        "print(\"ploting for sigma equal to \",sigma)\n",
        "plt.scatter(c1,c2)\n"
      ],
      "metadata": {
        "colab": {
          "base_uri": "https://localhost:8080/",
          "height": 367
        },
        "id": "S8v-yELjrOAu",
        "outputId": "85db6e15-5d54-403c-ff14-c8d7dfdb8c69"
      },
      "execution_count": null,
      "outputs": [
        {
          "output_type": "stream",
          "name": "stdout",
          "text": [
            "ploting for sigma equal to  0.4\n"
          ]
        },
        {
          "output_type": "stream",
          "name": "stderr",
          "text": [
            "<ipython-input-16-40ee5b38d84c>:49: ComplexWarning: Casting complex values to real discards the imaginary part\n",
            "  e1=math.sqrt(eigenval1)\n",
            "<ipython-input-16-40ee5b38d84c>:50: ComplexWarning: Casting complex values to real discards the imaginary part\n",
            "  e2=math.sqrt(eigenval2)\n"
          ]
        },
        {
          "output_type": "execute_result",
          "data": {
            "text/plain": [
              "<matplotlib.collections.PathCollection at 0x7f83ad44bee0>"
            ]
          },
          "metadata": {},
          "execution_count": 16
        },
        {
          "output_type": "display_data",
          "data": {
            "text/plain": [
              "<Figure size 432x288 with 1 Axes>"
            ],
            "image/png": "[encoded data removed]"
          },
          "metadata": {
            "needs_background": "light"
          }
        }
      ]
    },
    {
      "cell_type": "markdown",
      "source": [
        "\n",
        "\n",
        "> Implementing Kernel PCA algorithm and we will be using this k matrix as our covariance matrix for kernel function  K(X,Y) = exp (−(X−Y)ᵀ (X−Y))/2σ\\^2  for σ = 0.5 and Ploting the projection of each point in the dataset onto the top-2 components for kernel.\n",
        "\n"
      ],
      "metadata": {
        "id": "nJ-dRcTJLVYR"
      }
    },
    {
      "cell_type": "code",
      "source": [
        "array = np.empty((300,784),dtype=np.float64)\n",
        "for i in range (300):\n",
        "  array[i] = np_x_train[i]\n",
        "tempmat=np.zeros([300,300])\n",
        "sigma=0.5\n",
        "div = sigma**2\n",
        "div *= -2\n",
        "\n",
        "for i in range(300):\n",
        "    for j in range(300):\n",
        "        x = array[i]\n",
        "        y = array[j]\n",
        "        sub = np.subtract(x,y)\n",
        "        var = np.matmul(sub, sub.transpose())\n",
        "        var = var / (2*sigma*sigma)\n",
        "        var = np.exp(-1*var)\n",
        "        tempmat[i][j] = var\n",
        "x = array[2]\n",
        "y = array[3]\n",
        "sub = np.subtract(x,y)\n",
        "var = np.matmul(sub, sub.transpose())\n",
        "var = var / (2*sigma*sigma)\n",
        "var = np.exp(-1*var)\n",
        "\n",
        "k = tempmat\n",
        "I=np.identity(300)\n",
        "div=1/300\n",
        "divmat=np.full((300,300), div)\n",
        "divmat\n",
        "\n",
        "\n",
        "matminus = np.subtract(I, divmat) \n",
        "f=np.matmul(matminus, k)\n",
        "kernalcent=np.matmul(f, matminus)\n",
        "eig_vals, eig_vecs = np.linalg.eig(kernalcent)\n",
        "eig_vecs = eig_vecs.transpose()\n",
        "\n",
        "maxindex=np.argmax(eig_vals)\n",
        "eigenval1=eig_vals[maxindex]\n",
        "eigenvec1=eig_vecs[maxindex]\n",
        "eig_vals=np.delete(eig_vals,maxindex,axis=0)\n",
        "eig_vecs=np.delete(eig_vecs,maxindex,axis=0)\n",
        "maxindex=np.argmax(eig_vals)\n",
        "eigenval2=eig_vals[maxindex]\n",
        "eigenvec2=eig_vecs[maxindex]\n",
        "\n",
        "\n",
        "import math \n",
        "e1=math.sqrt(eigenval1)\n",
        "e2=math.sqrt(eigenval2)\n",
        "alpha1=np.divide(eigenvec1, e1)\n",
        "alpha2=np.divide(eigenvec2, e2)\n",
        "\n",
        "\n",
        "c1=np.matmul(kernalcent, alpha1)\n",
        "c2=np.matmul(kernalcent, alpha2)\n",
        "\n",
        "print(\"ploting for sigma equal to \",sigma)\n",
        "plt.scatter(c1,c2)\n"
      ],
      "metadata": {
        "colab": {
          "base_uri": "https://localhost:8080/",
          "height": 367
        },
        "id": "yOFQnrqmrRuZ",
        "outputId": "e79865a7-f457-4bde-8375-ff07030842a9"
      },
      "execution_count": null,
      "outputs": [
        {
          "output_type": "stream",
          "name": "stdout",
          "text": [
            "ploting for sigma equal to  0.5\n"
          ]
        },
        {
          "output_type": "stream",
          "name": "stderr",
          "text": [
            "<ipython-input-17-1dbec59fab9d>:49: ComplexWarning: Casting complex values to real discards the imaginary part\n",
            "  e1=math.sqrt(eigenval1)\n",
            "<ipython-input-17-1dbec59fab9d>:50: ComplexWarning: Casting complex values to real discards the imaginary part\n",
            "  e2=math.sqrt(eigenval2)\n"
          ]
        },
        {
          "output_type": "execute_result",
          "data": {
            "text/plain": [
              "<matplotlib.collections.PathCollection at 0x7f83ad398b20>"
            ]
          },
          "metadata": {},
          "execution_count": 17
        },
        {
          "output_type": "display_data",
          "data": {
            "text/plain": [
              "<Figure size 432x288 with 1 Axes>"
            ],
            "image/png": "[encoded data removed]"
          },
          "metadata": {
            "needs_background": "light"
          }
        }
      ]
    },
    {
      "cell_type": "markdown",
      "source": [
        "\n",
        "\n",
        "> Implementing Kernel PCA algorithm and we will be using this k matrix as our covariance matrix for kernel function  K(X,Y) = exp (−(X−Y)ᵀ (X−Y))/2σ\\^2  for σ = 0.6 and Ploting the projection of each point in the dataset onto the top-2 components for kernel.\n",
        "\n"
      ],
      "metadata": {
        "id": "lznbT00QLYMt"
      }
    },
    {
      "cell_type": "code",
      "source": [
        "array = np.empty((600,784),dtype=np.float64)\n",
        "for i in range (600):\n",
        "  array[i] = np_x_train[i]\n",
        "tempmat=np.zeros([600,600])\n",
        "sigma=0.6\n",
        "div = sigma**2\n",
        "div *= -2\n",
        "\n",
        "for i in range(600):\n",
        "    for j in range(600):\n",
        "        x = array[i]\n",
        "        y = array[j]\n",
        "        sub = np.subtract(x,y)\n",
        "        var = np.matmul(sub, sub.transpose())\n",
        "        var = var / (2*sigma*sigma)\n",
        "        var = np.exp(-1*var)\n",
        "        tempmat[i][j] = var\n",
        "x = array[2]\n",
        "y = array[3]\n",
        "sub = np.subtract(x,y)\n",
        "var = np.matmul(sub, sub.transpose())\n",
        "var = var / (2*sigma*sigma)\n",
        "var = np.exp(-1*var)\n",
        "\n",
        "k = tempmat\n",
        "I=np.identity(600)\n",
        "div=1/600\n",
        "divmat=np.full((600,600), div)\n",
        "divmat\n",
        "\n",
        "\n",
        "matminus = np.subtract(I, divmat) \n",
        "f=np.matmul(matminus, k)\n",
        "kernalcent=np.matmul(f, matminus)\n",
        "eig_vals, eig_vecs = np.linalg.eig(kernalcent)\n",
        "eig_vecs = eig_vecs.transpose()\n",
        "\n",
        "maxindex=np.argmax(eig_vals)\n",
        "eigenval1=eig_vals[maxindex]\n",
        "eigenvec1=eig_vecs[maxindex]\n",
        "eig_vals=np.delete(eig_vals,maxindex,axis=0)\n",
        "eig_vecs=np.delete(eig_vecs,maxindex,axis=0)\n",
        "maxindex=np.argmax(eig_vals)\n",
        "eigenval2=eig_vals[maxindex]\n",
        "eigenvec2=eig_vecs[maxindex]\n",
        "\n",
        "\n",
        "import math \n",
        "e1=math.sqrt(eigenval1)\n",
        "e2=math.sqrt(eigenval2)\n",
        "alpha1=np.divide(eigenvec1, e1)\n",
        "alpha2=np.divide(eigenvec2, e2)\n",
        "\n",
        "\n",
        "c1=np.matmul(kernalcent, alpha1)\n",
        "c2=np.matmul(kernalcent, alpha2)\n",
        "\n",
        "print(\"ploting for sigma equal to \",sigma)\n",
        "plt.scatter(c1,c2)\n"
      ],
      "metadata": {
        "colab": {
          "base_uri": "https://localhost:8080/",
          "height": 369
        },
        "id": "Wn88c33GrWkZ",
        "outputId": "335745a7-9819-4cf9-c1e1-7c150d03171a"
      },
      "execution_count": null,
      "outputs": [
        {
          "output_type": "stream",
          "name": "stdout",
          "text": [
            "ploting for sigma equal to  0.6\n"
          ]
        },
        {
          "output_type": "stream",
          "name": "stderr",
          "text": [
            "<ipython-input-18-259e5a8d66dd>:49: ComplexWarning: Casting complex values to real discards the imaginary part\n",
            "  e1=math.sqrt(eigenval1)\n",
            "<ipython-input-18-259e5a8d66dd>:50: ComplexWarning: Casting complex values to real discards the imaginary part\n",
            "  e2=math.sqrt(eigenval2)\n"
          ]
        },
        {
          "output_type": "execute_result",
          "data": {
            "text/plain": [
              "<matplotlib.collections.PathCollection at 0x7f83ad386d90>"
            ]
          },
          "metadata": {},
          "execution_count": 18
        },
        {
          "output_type": "display_data",
          "data": {
            "text/plain": [
              "<Figure size 432x288 with 1 Axes>"
            ],
            "image/png": "[encoded data removed]"
          },
          "metadata": {
            "needs_background": "light"
          }
        }
      ]
    },
    {
      "cell_type": "markdown",
      "source": [
        "\n",
        "\n",
        "> Implementing Kernel PCA algorithm and we will be using this k matrix as our covariance matrix for kernel function  K(X,Y) = exp (−(X−Y)ᵀ (X−Y))/2σ\\^2  for σ = 0.7 and Ploting the projection of each point in the dataset onto the top-2 components for kernel.\n",
        "\n"
      ],
      "metadata": {
        "id": "MSqhf5ccLbnl"
      }
    },
    {
      "cell_type": "code",
      "source": [
        "array = np.empty((200,784),dtype=np.float64)\n",
        "for i in range (200):\n",
        "  array[i] = np_x_train[i]\n",
        "tempmat=np.zeros([200,200])\n",
        "sigma=0.7\n",
        "div = sigma**2\n",
        "div *= -2\n",
        "\n",
        "for i in range(200):\n",
        "    for j in range(200):\n",
        "        x = array[i]\n",
        "        y = array[j]\n",
        "        sub = np.subtract(x,y)\n",
        "        var = np.matmul(sub, sub.transpose())\n",
        "        var = var / (2*sigma*sigma)\n",
        "        var = np.exp(-1*var)\n",
        "        tempmat[i][j] = var\n",
        "x = array[2]\n",
        "y = array[3]\n",
        "sub = np.subtract(x,y)\n",
        "var = np.matmul(sub, sub.transpose())\n",
        "var = var / (2*sigma*sigma)\n",
        "var = np.exp(-1*var)\n",
        "\n",
        "k = tempmat\n",
        "I=np.identity(200)\n",
        "div=1/200\n",
        "divmat=np.full((200,200), div)\n",
        "divmat\n",
        "\n",
        "\n",
        "matminus = np.subtract(I, divmat) \n",
        "f=np.matmul(matminus, k)\n",
        "kernalcent=np.matmul(f, matminus)\n",
        "eig_vals, eig_vecs = np.linalg.eig(kernalcent)\n",
        "eig_vecs = eig_vecs.transpose()\n",
        "\n",
        "maxindex=np.argmax(eig_vals)\n",
        "eigenval1=eig_vals[maxindex]\n",
        "eigenvec1=eig_vecs[maxindex]\n",
        "eig_vals=np.delete(eig_vals,maxindex,axis=0)\n",
        "eig_vecs=np.delete(eig_vecs,maxindex,axis=0)\n",
        "maxindex=np.argmax(eig_vals)\n",
        "eigenval2=eig_vals[maxindex]\n",
        "eigenvec2=eig_vecs[maxindex]\n",
        "\n",
        "\n",
        "import math \n",
        "e1=math.sqrt(eigenval1)\n",
        "e2=math.sqrt(eigenval2)\n",
        "alpha1=np.divide(eigenvec1, e1)\n",
        "alpha2=np.divide(eigenvec2, e2)\n",
        "\n",
        "\n",
        "c1=np.matmul(kernalcent, alpha1)\n",
        "c2=np.matmul(kernalcent, alpha2)\n",
        "\n",
        "print(\"ploting for sigma equal to \",sigma)\n",
        "plt.scatter(c1,c2)\n"
      ],
      "metadata": {
        "colab": {
          "base_uri": "https://localhost:8080/",
          "height": 367
        },
        "id": "iB2Y7-8Lrm4h",
        "outputId": "790795d3-eb7e-4385-9b87-cd6a7d5a1c60"
      },
      "execution_count": null,
      "outputs": [
        {
          "output_type": "stream",
          "name": "stdout",
          "text": [
            "ploting for sigma equal to  0.7\n"
          ]
        },
        {
          "output_type": "stream",
          "name": "stderr",
          "text": [
            "<ipython-input-20-dd7cc344b70a>:49: ComplexWarning: Casting complex values to real discards the imaginary part\n",
            "  e1=math.sqrt(eigenval1)\n",
            "<ipython-input-20-dd7cc344b70a>:50: ComplexWarning: Casting complex values to real discards the imaginary part\n",
            "  e2=math.sqrt(eigenval2)\n"
          ]
        },
        {
          "output_type": "execute_result",
          "data": {
            "text/plain": [
              "<matplotlib.collections.PathCollection at 0x7f83ad2ca3a0>"
            ]
          },
          "metadata": {},
          "execution_count": 20
        },
        {
          "output_type": "display_data",
          "data": {
            "text/plain": [
              "<Figure size 432x288 with 1 Axes>"
            ],
            "image/png": "[encoded data removed]"
          },
          "metadata": {
            "needs_background": "light"
          }
        }
      ]
    },
    {
      "cell_type": "markdown",
      "source": [
        "\n",
        "\n",
        "> Implementing Kernel PCA algorithm and we will be using this k matrix as our covariance matrix for kernel function  K(X,Y) = exp (−(X−Y)ᵀ (X−Y))/2σ\\^2  for σ = 0.8 and Ploting the projection of each point in the dataset onto the top-2 components for kernel.\n",
        "\n"
      ],
      "metadata": {
        "id": "Bm7vRsI_LeyF"
      }
    },
    {
      "cell_type": "code",
      "source": [
        "array = np.empty((800,784),dtype=np.float64)\n",
        "for i in range (800):\n",
        "  array[i] = np_x_train[i]\n",
        "tempmat=np.zeros([800,800])\n",
        "sigma=0.8\n",
        "div = sigma**2\n",
        "div *= -2\n",
        "\n",
        "for i in range(800):\n",
        "    for j in range(800):\n",
        "        x = array[i]\n",
        "        y = array[j]\n",
        "        sub = np.subtract(x,y)\n",
        "        var = np.matmul(sub, sub.transpose())\n",
        "        var = var / (2*sigma*sigma)\n",
        "        var = np.exp(-1*var)\n",
        "        tempmat[i][j] = var\n",
        "x = array[2]\n",
        "y = array[3]\n",
        "sub = np.subtract(x,y)\n",
        "var = np.matmul(sub, sub.transpose())\n",
        "var = var / (2*sigma*sigma)\n",
        "var = np.exp(-1*var)\n",
        "\n",
        "k = tempmat\n",
        "I=np.identity(800)\n",
        "div=1/800\n",
        "divmat=np.full((800,800), div)\n",
        "divmat\n",
        "\n",
        "\n",
        "matminus = np.subtract(I, divmat) \n",
        "f=np.matmul(matminus, k)\n",
        "kernalcent=np.matmul(f, matminus)\n",
        "eig_vals, eig_vecs = np.linalg.eig(kernalcent)\n",
        "eig_vecs = eig_vecs.transpose()\n",
        "\n",
        "maxindex=np.argmax(eig_vals)\n",
        "eigenval1=eig_vals[maxindex]\n",
        "eigenvec1=eig_vecs[maxindex]\n",
        "eig_vals=np.delete(eig_vals,maxindex,axis=0)\n",
        "eig_vecs=np.delete(eig_vecs,maxindex,axis=0)\n",
        "maxindex=np.argmax(eig_vals)\n",
        "eigenval2=eig_vals[maxindex]\n",
        "eigenvec2=eig_vecs[maxindex]\n",
        "\n",
        "\n",
        "import math \n",
        "e1=math.sqrt(eigenval1)\n",
        "e2=math.sqrt(eigenval2)\n",
        "alpha1=np.divide(eigenvec1, e1)\n",
        "alpha2=np.divide(eigenvec2, e2)\n",
        "\n",
        "\n",
        "c1=np.matmul(kernalcent, alpha1)\n",
        "c2=np.matmul(kernalcent, alpha2)\n",
        "\n",
        "print(\"ploting for sigma equal to \",sigma)\n",
        "plt.scatter(c1,c2)\n"
      ],
      "metadata": {
        "colab": {
          "base_uri": "https://localhost:8080/",
          "height": 300
        },
        "id": "qIKK26k8r52z",
        "outputId": "5545da4d-2cd7-4f88-90d8-90c3aea81c84"
      },
      "execution_count": null,
      "outputs": [
        {
          "output_type": "stream",
          "name": "stdout",
          "text": [
            "ploting for sigma equal to  0.8\n"
          ]
        },
        {
          "output_type": "execute_result",
          "data": {
            "text/plain": [
              "<matplotlib.collections.PathCollection at 0x7f83ad227b80>"
            ]
          },
          "metadata": {},
          "execution_count": 21
        },
        {
          "output_type": "display_data",
          "data": {
            "text/plain": [
              "<Figure size 432x288 with 1 Axes>"
            ],
            "image/png": "[encoded data removed]"
          },
          "metadata": {
            "needs_background": "light"
          }
        }
      ]
    },
    {
      "cell_type": "markdown",
      "source": [
        "\n",
        "\n",
        "> Implementing Kernel PCA algorithm and we will be using this k matrix as our covariance matrix for kernel function  K(X,Y) = exp (−(X−Y)ᵀ (X−Y))/2σ\\^2  for σ = 0.9 and Ploting the projection of each point in the dataset onto the top-2 components for kernel.\n",
        "\n"
      ],
      "metadata": {
        "id": "zoqaWtkJLiJ1"
      }
    },
    {
      "cell_type": "code",
      "source": [
        "array = np.empty((150,784),dtype=np.float64)\n",
        "for i in range (150):\n",
        "  array[i] = np_x_train[i]\n",
        "tempmat=np.zeros([150,150])\n",
        "sigma=0.9\n",
        "div = sigma**2\n",
        "div *= -2\n",
        "\n",
        "for i in range(150):\n",
        "    for j in range(150):\n",
        "        x = array[i]\n",
        "        y = array[j]\n",
        "        sub = np.subtract(x,y)\n",
        "        var = np.matmul(sub, sub.transpose())\n",
        "        var = var / (2*sigma*sigma)\n",
        "        var = np.exp(-1*var)\n",
        "        tempmat[i][j] = var\n",
        "x = array[2]\n",
        "y = array[3]\n",
        "sub = np.subtract(x,y)\n",
        "var = np.matmul(sub, sub.transpose())\n",
        "var = var / (2*sigma*sigma)\n",
        "var = np.exp(-1*var)\n",
        "\n",
        "k = tempmat\n",
        "I=np.identity(150)\n",
        "div=1/150\n",
        "divmat=np.full((150,150), div)\n",
        "divmat\n",
        "\n",
        "\n",
        "matminus = np.subtract(I, divmat) \n",
        "f=np.matmul(matminus, k)\n",
        "kernalcent=np.matmul(f, matminus)\n",
        "eig_vals, eig_vecs = np.linalg.eig(kernalcent)\n",
        "eig_vecs = eig_vecs.transpose()\n",
        "\n",
        "maxindex=np.argmax(eig_vals)\n",
        "eigenval1=eig_vals[maxindex]\n",
        "eigenvec1=eig_vecs[maxindex]\n",
        "eig_vals=np.delete(eig_vals,maxindex,axis=0)\n",
        "eig_vecs=np.delete(eig_vecs,maxindex,axis=0)\n",
        "maxindex=np.argmax(eig_vals)\n",
        "eigenval2=eig_vals[maxindex]\n",
        "eigenvec2=eig_vecs[maxindex]\n",
        "\n",
        "\n",
        "import math \n",
        "e1=math.sqrt(eigenval1)\n",
        "e2=math.sqrt(eigenval2)\n",
        "alpha1=np.divide(eigenvec1, e1)\n",
        "alpha2=np.divide(eigenvec2, e2)\n",
        "\n",
        "\n",
        "c1=np.matmul(kernalcent, alpha1)\n",
        "c2=np.matmul(kernalcent, alpha2)\n",
        "\n",
        "print(\"ploting for sigma equal to \",sigma)\n",
        "plt.scatter(c1,c2)\n"
      ],
      "metadata": {
        "colab": {
          "base_uri": "https://localhost:8080/",
          "height": 299
        },
        "id": "VxrooPIpsEgD",
        "outputId": "d39fa010-f15b-4122-879b-508ac387eef3"
      },
      "execution_count": null,
      "outputs": [
        {
          "output_type": "stream",
          "name": "stdout",
          "text": [
            "ploting for sigma equal to  0.9\n"
          ]
        },
        {
          "output_type": "execute_result",
          "data": {
            "text/plain": [
              "<matplotlib.collections.PathCollection at 0x7f83ad110fd0>"
            ]
          },
          "metadata": {},
          "execution_count": 23
        },
        {
          "output_type": "display_data",
          "data": {
            "text/plain": [
              "<Figure size 432x288 with 1 Axes>"
            ],
            "image/png": "[encoded data removed]"
          },
          "metadata": {
            "needs_background": "light"
          }
        }
      ]
    },
    {
      "cell_type": "markdown",
      "source": [
        "\n",
        "\n",
        "> Implementing Kernel PCA algorithm and we will be using this k matrix as our covariance matrix for kernel function  K(X,Y) = exp (−(X−Y)ᵀ (X−Y))/2σ\\^2  for σ = 1.0 and Ploting the projection of each point in the dataset onto the top-2 components for kernel.\n",
        "\n"
      ],
      "metadata": {
        "id": "yESLey97Lkhs"
      }
    },
    {
      "cell_type": "code",
      "source": [
        "array = np.empty((150,784),dtype=np.float64)\n",
        "for i in range (150):\n",
        "  array[i] = np_x_train[i]\n",
        "tempmat=np.zeros([150,150])\n",
        "sigma=1\n",
        "div = sigma**2\n",
        "div *= -2\n",
        "\n",
        "for i in range(150):\n",
        "    for j in range(150):\n",
        "        x = array[i]\n",
        "        y = array[j]\n",
        "        sub = np.subtract(x,y)\n",
        "        var = np.matmul(sub, sub.transpose())\n",
        "        var = var / (2*sigma*sigma)\n",
        "        var = np.exp(-1*var)\n",
        "        tempmat[i][j] = var\n",
        "x = array[2]\n",
        "y = array[3]\n",
        "sub = np.subtract(x,y)\n",
        "var = np.matmul(sub, sub.transpose())\n",
        "var = var / (2*sigma*sigma)\n",
        "var = np.exp(-1*var)\n",
        "\n",
        "k = tempmat\n",
        "I=np.identity(150)\n",
        "div=1/150\n",
        "divmat=np.full((150,150), div)\n",
        "divmat\n",
        "\n",
        "\n",
        "matminus = np.subtract(I, divmat) \n",
        "f=np.matmul(matminus, k)\n",
        "kernalcent=np.matmul(f, matminus)\n",
        "eig_vals, eig_vecs = np.linalg.eig(kernalcent)\n",
        "eig_vecs = eig_vecs.transpose()\n",
        "\n",
        "maxindex=np.argmax(eig_vals)\n",
        "eigenval1=eig_vals[maxindex]\n",
        "eigenvec1=eig_vecs[maxindex]\n",
        "eig_vals=np.delete(eig_vals,maxindex,axis=0)\n",
        "eig_vecs=np.delete(eig_vecs,maxindex,axis=0)\n",
        "maxindex=np.argmax(eig_vals)\n",
        "eigenval2=eig_vals[maxindex]\n",
        "eigenvec2=eig_vecs[maxindex]\n",
        "\n",
        "\n",
        "import math \n",
        "e1=math.sqrt(eigenval1)\n",
        "e2=math.sqrt(eigenval2)\n",
        "alpha1=np.divide(eigenvec1, e1)\n",
        "alpha2=np.divide(eigenvec2, e2)\n",
        "\n",
        "\n",
        "c1=np.matmul(kernalcent, alpha1)\n",
        "c2=np.matmul(kernalcent, alpha2)\n",
        "\n",
        "print(\"ploting for sigma equal to \",sigma)\n",
        "plt.scatter(c1,c2)\n"
      ],
      "metadata": {
        "colab": {
          "base_uri": "https://localhost:8080/",
          "height": 299
        },
        "id": "UdcAKsBxsTX6",
        "outputId": "35d43b56-19af-4131-a906-9ee8a47c6332"
      },
      "execution_count": null,
      "outputs": [
        {
          "output_type": "stream",
          "name": "stdout",
          "text": [
            "ploting for sigma equal to  1\n"
          ]
        },
        {
          "output_type": "execute_result",
          "data": {
            "text/plain": [
              "<matplotlib.collections.PathCollection at 0x7f83ad0f4610>"
            ]
          },
          "metadata": {},
          "execution_count": 24
        },
        {
          "output_type": "display_data",
          "data": {
            "text/plain": [
              "<Figure size 432x288 with 1 Axes>"
            ],
            "image/png": "[encoded data removed]"
          },
          "metadata": {
            "needs_background": "light"
          }
        }
      ]
    },
    {
      "cell_type": "markdown",
      "source": [
        "\n",
        "\n",
        "> Among all the kernel of K(X,Y)=(1+Xᵀ Y)ᵈ for d={2,3,4} for d==4 we are getting maximum variance plot between top-2 eigen vector projections. Unfortunatlly we are not able to calculate actual kernel matrix as dimensions will be (60000 X 60000) but again with (10000 X 10000) we are consuming too much time for a single calculations, more than 25min taking for a single batch computations. So we reduced the batch size for computations. Hence it will not be correct to compair the results coming for different batch size so while compairing we are not considering K(X,Y) = exp (−(X−Y)\\^ᵀ (X−Y))/2σ\\^2 for σ = {0.1,0.2,...,1} kernel functions.\n",
        "\n"
      ],
      "metadata": {
        "id": "eqKw41yUOtUB"
      }
    }
  ]
}