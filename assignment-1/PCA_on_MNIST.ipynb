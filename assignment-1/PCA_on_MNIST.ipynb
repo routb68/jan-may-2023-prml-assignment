{
  "nbformat": 4,
  "nbformat_minor": 0,
  "metadata": {
    "colab": {
      "provenance": [],
      "authorship_tag": "ABX9TyMEYkLowVyeAqOlS7R91fSN",
      "include_colab_link": true
    },
    "kernelspec": {
      "name": "python3",
      "display_name": "Python 3"
    },
    "language_info": {
      "name": "python"
    },
    "gpuClass": "standard"
  },
  "cells": [
    {
      "cell_type": "markdown",
      "metadata": {
        "id": "view-in-github",
        "colab_type": "text"
      },
      "source": [
        "<a href=\"https://colab.research.google.com/github/routb68/jan-may-2023-prml-assignment/blob/main/assignment-1/PCA_on_MNIST.ipynb\" target=\"_parent\"><img src=\"https://colab.research.google.com/assets/colab-badge.svg\" alt=\"Open In Colab\"/></a>"
      ]
    },
    {
      "cell_type": "markdown",
      "source": [
        "# Question\n",
        "\n",
        "\n",
        "> *1.1 Write a piece of code to run the PCA algorithm on this MNIST data-set. Show the images of the principal components that you obtain. How much of the variance in the data-set is explained by each of the principal components?*\n",
        "\n",
        "\n",
        "\n",
        "\n",
        "---\n",
        "\n",
        "\n",
        "\n"
      ],
      "metadata": {
        "id": "Xb0n-bcQBDCG"
      }
    },
    {
      "cell_type": "markdown",
      "source": [
        "## Importing libraries and Data downloding\n",
        "\n",
        "> Numpy offers better computational advantages over traditional containers of python3,so I will be using Numpy array to store data and other functionality offered by numpy such as eigen vector calculation, matrix multiplication, matrix transpos function etc. I will be using Mnist dataset already present in keras.datasets, using that dataset for further computation and loading that dataset. I will be using matplotlib to plot our images.\n",
        "\n",
        "\n",
        "\n",
        "\n",
        "\n",
        "\n"
      ],
      "metadata": {
        "id": "we327KoNBFMW"
      }
    },
    {
      "cell_type": "code",
      "source": [
        "!python --version"
      ],
      "metadata": {
        "colab": {
          "base_uri": "https://localhost:8080/"
        },
        "id": "cuV81fj8CwWW",
        "outputId": "dfad679e-4d24-490f-cbc5-80a1f1a6c95c"
      },
      "execution_count": 1,
      "outputs": [
        {
          "output_type": "stream",
          "name": "stdout",
          "text": [
            "Python 3.8.10\n"
          ]
        }
      ]
    },
    {
      "cell_type": "code",
      "source": [
        "import numpy as np\n",
        "import matplotlib.pyplot as plt\n",
        "from keras.datasets import mnist"
      ],
      "metadata": {
        "id": "vwJwEi7eDccG"
      },
      "execution_count": 2,
      "outputs": []
    },
    {
      "cell_type": "code",
      "source": [
        "np.version.version"
      ],
      "metadata": {
        "colab": {
          "base_uri": "https://localhost:8080/",
          "height": 35
        },
        "id": "tSQ0w9-2Dgmd",
        "outputId": "a022b50a-0555-415c-ef05-e84bd5672158"
      },
      "execution_count": 3,
      "outputs": [
        {
          "output_type": "execute_result",
          "data": {
            "text/plain": [
              "'1.22.4'"
            ],
            "application/vnd.google.colaboratory.intrinsic+json": {
              "type": "string"
            }
          },
          "metadata": {},
          "execution_count": 3
        }
      ]
    },
    {
      "cell_type": "markdown",
      "source": [
        "I am using google colab to do all the computations and for refrence python version - 3.8.10 and numpy version - 1.21.6 ."
      ],
      "metadata": {
        "id": "z9HCA39MDrED"
      }
    },
    {
      "cell_type": "code",
      "execution_count": 4,
      "metadata": {
        "colab": {
          "base_uri": "https://localhost:8080/"
        },
        "id": "a8OBhoqJrMsn",
        "outputId": "a0b9213a-e14e-49d0-c0b1-fddbc7415bf8"
      },
      "outputs": [
        {
          "output_type": "stream",
          "name": "stdout",
          "text": [
            "Downloading data from https://storage.googleapis.com/tensorflow/tf-keras-datasets/mnist.npz\n",
            "11490434/11490434 [==============================] - 0s 0us/step\n",
            "x_train shape (60000, 28, 28)\n",
            "y_train shape (60000,)\n",
            "x_test shape (10000, 28, 28)\n",
            "y_test shape (10000,)\n"
          ]
        }
      ],
      "source": [
        "(x_train, y_train), (x_test, y_test) = mnist.load_data()\n",
        "\n",
        "print(\"x_train shape\", x_train.shape)\n",
        "print(\"y_train shape\", y_train.shape)\n",
        "print(\"x_test shape\", x_test.shape)\n",
        "print(\"y_test shape\", y_test.shape)"
      ]
    },
    {
      "cell_type": "markdown",
      "source": [
        "# About Data\n",
        "\n",
        "\n",
        "> Our dataset splited into 2 different data set, here \"x_train\" contains 60,000 handwritten digits which are image data of resolution (28 X 28) and lebeled with what \"y_train\" which repersents what digit image contains. Similarly \"x_test\" contains 10,000 data points of similar attributes.\n",
        "\n",
        "\n",
        "> I will be running our piece of code of the PCA algorithm on \"x_train\" dataset."
      ],
      "metadata": {
        "id": "D3rHStZPENz2"
      }
    },
    {
      "cell_type": "markdown",
      "source": [
        "# Data Visulizaton and Transformation\n",
        "\n",
        "\n",
        "> Using matplotlib to plot random 9 sample images, where the title will be from \"y_train\" for better visulization of which lebel its associated with.\n",
        "\n"
      ],
      "metadata": {
        "id": "nmnO2WYjBapr"
      }
    },
    {
      "cell_type": "code",
      "source": [
        "import random\n",
        "plt.rcParams['figure.figsize'] = (9,9)\n",
        "\n",
        "for i in range(9):\n",
        "    plt.subplot(3,3,i+1)\n",
        "    num = random.randint(0, len(x_train))\n",
        "    plt.imshow(x_train[num], cmap='gray', interpolation='none')\n",
        "    plt.title(\"Lebeled as {}\".format(y_train[num]))\n",
        "    \n",
        "plt.tight_layout()"
      ],
      "metadata": {
        "colab": {
          "base_uri": "https://localhost:8080/",
          "height": 657
        },
        "id": "MoQ8W5tJBid8",
        "outputId": "9948a25c-fbd7-4188-f4bd-752d1325dc65"
      },
      "execution_count": 5,
      "outputs": [
        {
          "output_type": "display_data",
          "data": {
            "text/plain": [
              "<Figure size 648x648 with 9 Axes>"
            ],
            "image/png": "[encoded data removed]"
          },
          "metadata": {
            "needs_background": "light"
          }
        }
      ]
    },
    {
      "cell_type": "markdown",
      "source": [
        "\n",
        "\n",
        "> Let's print what a single digit conatins\n",
        "\n"
      ],
      "metadata": {
        "id": "ItqOiMMMFFB1"
      }
    },
    {
      "cell_type": "code",
      "source": [
        "print(\"x_train[0] shape\", x_train[0].shape)\n",
        "print(x_train[0])"
      ],
      "metadata": {
        "colab": {
          "base_uri": "https://localhost:8080/"
        },
        "id": "DQFVAGsAFCt6",
        "outputId": "6b646a3f-c046-460d-9768-d13980a45fae"
      },
      "execution_count": 6,
      "outputs": [
        {
          "output_type": "stream",
          "name": "stdout",
          "text": [
            "x_train[0] shape (28, 28)\n",
            "[[  0   0   0   0   0   0   0   0   0   0   0   0   0   0   0   0   0   0\n",
            "    0   0   0   0   0   0   0   0   0   0]\n",
            " [  0   0   0   0   0   0   0   0   0   0   0   0   0   0   0   0   0   0\n",
            "    0   0   0   0   0   0   0   0   0   0]\n",
            " [  0   0   0   0   0   0   0   0   0   0   0   0   0   0   0   0   0   0\n",
            "    0   0   0   0   0   0   0   0   0   0]\n",
            " [  0   0   0   0   0   0   0   0   0   0   0   0   0   0   0   0   0   0\n",
            "    0   0   0   0   0   0   0   0   0   0]\n",
            " [  0   0   0   0   0   0   0   0   0   0   0   0   0   0   0   0   0   0\n",
            "    0   0   0   0   0   0   0   0   0   0]\n",
            " [  0   0   0   0   0   0   0   0   0   0   0   0   3  18  18  18 126 136\n",
            "  175  26 166 255 247 127   0   0   0   0]\n",
            " [  0   0   0   0   0   0   0   0  30  36  94 154 170 253 253 253 253 253\n",
            "  225 172 253 242 195  64   0   0   0   0]\n",
            " [  0   0   0   0   0   0   0  49 238 253 253 253 253 253 253 253 253 251\n",
            "   93  82  82  56  39   0   0   0   0   0]\n",
            " [  0   0   0   0   0   0   0  18 219 253 253 253 253 253 198 182 247 241\n",
            "    0   0   0   0   0   0   0   0   0   0]\n",
            " [  0   0   0   0   0   0   0   0  80 156 107 253 253 205  11   0  43 154\n",
            "    0   0   0   0   0   0   0   0   0   0]\n",
            " [  0   0   0   0   0   0   0   0   0  14   1 154 253  90   0   0   0   0\n",
            "    0   0   0   0   0   0   0   0   0   0]\n",
            " [  0   0   0   0   0   0   0   0   0   0   0 139 253 190   2   0   0   0\n",
            "    0   0   0   0   0   0   0   0   0   0]\n",
            " [  0   0   0   0   0   0   0   0   0   0   0  11 190 253  70   0   0   0\n",
            "    0   0   0   0   0   0   0   0   0   0]\n",
            " [  0   0   0   0   0   0   0   0   0   0   0   0  35 241 225 160 108   1\n",
            "    0   0   0   0   0   0   0   0   0   0]\n",
            " [  0   0   0   0   0   0   0   0   0   0   0   0   0  81 240 253 253 119\n",
            "   25   0   0   0   0   0   0   0   0   0]\n",
            " [  0   0   0   0   0   0   0   0   0   0   0   0   0   0  45 186 253 253\n",
            "  150  27   0   0   0   0   0   0   0   0]\n",
            " [  0   0   0   0   0   0   0   0   0   0   0   0   0   0   0  16  93 252\n",
            "  253 187   0   0   0   0   0   0   0   0]\n",
            " [  0   0   0   0   0   0   0   0   0   0   0   0   0   0   0   0   0 249\n",
            "  253 249  64   0   0   0   0   0   0   0]\n",
            " [  0   0   0   0   0   0   0   0   0   0   0   0   0   0  46 130 183 253\n",
            "  253 207   2   0   0   0   0   0   0   0]\n",
            " [  0   0   0   0   0   0   0   0   0   0   0   0  39 148 229 253 253 253\n",
            "  250 182   0   0   0   0   0   0   0   0]\n",
            " [  0   0   0   0   0   0   0   0   0   0  24 114 221 253 253 253 253 201\n",
            "   78   0   0   0   0   0   0   0   0   0]\n",
            " [  0   0   0   0   0   0   0   0  23  66 213 253 253 253 253 198  81   2\n",
            "    0   0   0   0   0   0   0   0   0   0]\n",
            " [  0   0   0   0   0   0  18 171 219 253 253 253 253 195  80   9   0   0\n",
            "    0   0   0   0   0   0   0   0   0   0]\n",
            " [  0   0   0   0  55 172 226 253 253 253 253 244 133  11   0   0   0   0\n",
            "    0   0   0   0   0   0   0   0   0   0]\n",
            " [  0   0   0   0 136 253 253 253 212 135 132  16   0   0   0   0   0   0\n",
            "    0   0   0   0   0   0   0   0   0   0]\n",
            " [  0   0   0   0   0   0   0   0   0   0   0   0   0   0   0   0   0   0\n",
            "    0   0   0   0   0   0   0   0   0   0]\n",
            " [  0   0   0   0   0   0   0   0   0   0   0   0   0   0   0   0   0   0\n",
            "    0   0   0   0   0   0   0   0   0   0]\n",
            " [  0   0   0   0   0   0   0   0   0   0   0   0   0   0   0   0   0   0\n",
            "    0   0   0   0   0   0   0   0   0   0]]\n"
          ]
        }
      ]
    },
    {
      "cell_type": "markdown",
      "source": [
        "\n",
        "\n",
        "> Here each pixel is valued between 0 to 255. Each image contains (28 x28) such pixels. Now let's transform the multi-dimensional data into single dimension.\n",
        "Mean now our \"x_train\" will be transformed from (60,000 x 28 x 28) to (60,000 x 784).\n",
        "\n",
        "\n",
        "\n"
      ],
      "metadata": {
        "id": "g3cRgf8aFKkD"
      }
    },
    {
      "cell_type": "code",
      "source": [
        "x_train = x_train.reshape(60000, 784) # reshape 60,000 28 x 28 matrices into 60,000 784-length vectors.\n",
        "x_test = x_test.reshape(10000, 784)   # reshape 10,000 28 x 28 matrices into 10,000 784-length vectors.\n",
        "\n",
        "print(\"x_train matrix shape\", x_train.shape)\n",
        "print(\"x_test matrix shape\", x_test.shape)"
      ],
      "metadata": {
        "colab": {
          "base_uri": "https://localhost:8080/"
        },
        "id": "0K4JthtPFSHt",
        "outputId": "70f42010-3a41-46fd-934f-136539f80ae7"
      },
      "execution_count": 7,
      "outputs": [
        {
          "output_type": "stream",
          "name": "stdout",
          "text": [
            "x_train matrix shape (60000, 784)\n",
            "x_test matrix shape (10000, 784)\n"
          ]
        }
      ]
    },
    {
      "cell_type": "markdown",
      "source": [
        "\n",
        "\n",
        "> Let's transform our data into numpy array. using numpy as numpy offers better computation speed, some mathematical functions which we will be using for PCA algorithm such as eigen value eigen vector computation.\n",
        "\n"
      ],
      "metadata": {
        "id": "SXq6cP-IFliE"
      }
    },
    {
      "cell_type": "code",
      "source": [
        "np_x_train = np.array(x_train)\n",
        "np_x_test = np.array(x_test)"
      ],
      "metadata": {
        "id": "_7Upv4agFnuS"
      },
      "execution_count": 8,
      "outputs": []
    },
    {
      "cell_type": "code",
      "source": [],
      "metadata": {
        "id": "syOZ9KV66aD8"
      },
      "execution_count": 8,
      "outputs": []
    },
    {
      "cell_type": "markdown",
      "source": [
        "\n",
        "\n",
        "> Let's print newly created numpy array's datatype and one sample data.\n",
        "\n"
      ],
      "metadata": {
        "id": "RIA22YbEF5pv"
      }
    },
    {
      "cell_type": "code",
      "source": [
        "print(\"np_x_train shape\", np_x_train.shape)\n",
        "print(\"np_x_train[0] datatype\", np_x_train[0].dtype)"
      ],
      "metadata": {
        "colab": {
          "base_uri": "https://localhost:8080/"
        },
        "id": "Vv67VUyUF5Iu",
        "outputId": "1d47f6f8-93d9-43a0-de64-454f1386b299"
      },
      "execution_count": 9,
      "outputs": [
        {
          "output_type": "stream",
          "name": "stdout",
          "text": [
            "np_x_train shape (60000, 784)\n",
            "np_x_train[0] datatype uint8\n"
          ]
        }
      ]
    },
    {
      "cell_type": "markdown",
      "source": [
        "\n",
        "\n",
        "> As data type is \"uint8\" unsinged 8-bit integer, it is storing data between 0-255. As PCA requires centered data and our datatype not able to store non-postive data we have to change our data type. Changing data type to \"float64\". \n",
        "\n"
      ],
      "metadata": {
        "id": "KvbMpjiGGP7o"
      }
    },
    {
      "cell_type": "code",
      "source": [
        "np_x_train = np_x_train.astype(np.float64)\n",
        "np_x_test = np_x_test.astype(np.float64)\n",
        "print(\"np_x_train[0] datatype\", np_x_train[0].dtype)"
      ],
      "metadata": {
        "colab": {
          "base_uri": "https://localhost:8080/"
        },
        "id": "ERDa9BQCGVob",
        "outputId": "9885301d-0c04-4f8d-cdcc-938fe78d85a9"
      },
      "execution_count": 10,
      "outputs": [
        {
          "output_type": "stream",
          "name": "stdout",
          "text": [
            "np_x_train[0] datatype float64\n"
          ]
        }
      ]
    },
    {
      "cell_type": "markdown",
      "source": [
        "\n",
        "\n",
        "> Before running PCA we have to standartize the data mean convert our data into centered and unit variance data. Using satndard scaler from sklearn to transform our data.\n",
        "\n"
      ],
      "metadata": {
        "id": "tblzxtaXTh3q"
      }
    },
    {
      "cell_type": "code",
      "source": [
        "from sklearn.preprocessing import StandardScaler\n",
        "np_x_train = StandardScaler().fit_transform(np_x_train)\n",
        "np_x_test = StandardScaler().fit_transform(np_x_test)"
      ],
      "metadata": {
        "id": "g84KRImfreKY"
      },
      "execution_count": 11,
      "outputs": []
    },
    {
      "cell_type": "markdown",
      "source": [
        "\n",
        "\n",
        "> Now calculating data's transpose and named as features.Then covariance matrix of features matrix. Then with numpy calculating eigen vector and eigen values.\n",
        "\n"
      ],
      "metadata": {
        "id": "Eu7A3u9kUR4Y"
      }
    },
    {
      "cell_type": "code",
      "source": [
        "features = np_x_train.T\n",
        "covariance_matrix = np.cov(features)\n",
        "eig_vals, eig_vecs = np.linalg.eig(covariance_matrix)"
      ],
      "metadata": {
        "id": "VehU_N_NwMUg"
      },
      "execution_count": 12,
      "outputs": []
    },
    {
      "cell_type": "markdown",
      "source": [
        "\n",
        "\n",
        "> Printing the eigen values got after this and these are variance along the principal directions.\n",
        "\n"
      ],
      "metadata": {
        "id": "21aBQNZYUyzv"
      }
    },
    {
      "cell_type": "code",
      "source": [
        "for i in range (784):\n",
        "  print(f\"{i+1} th eigen value is - {eig_vals[i]}\")"
      ],
      "metadata": {
        "id": "0elojxazwVFv",
        "colab": {
          "base_uri": "https://localhost:8080/"
        },
        "outputId": "c006cde9-ba3f-40d5-e5b3-186a16289d87"
      },
      "execution_count": 13,
      "outputs": [
        {
          "output_type": "stream",
          "name": "stdout",
          "text": [
            "1 th eigen value is - 40.487635108468055\n",
            "2 th eigen value is - 29.241697518949593\n",
            "3 th eigen value is - 26.811804486217547\n",
            "4 th eigen value is - 20.686618220003854\n",
            "5 th eigen value is - 18.076650123437084\n",
            "6 th eigen value is - 15.733177866400622\n",
            "7 th eigen value is - 13.790609093486092\n",
            "8 th eigen value is - 12.517589094135069\n",
            "9 th eigen value is - 11.006795270542064\n",
            "10 th eigen value is - 10.050497052250766\n",
            "11 th eigen value is - 9.620457793436266\n",
            "12 th eigen value is - 8.630973555526765\n",
            "13 th eigen value is - 7.9915968650947615\n",
            "14 th eigen value is - 7.8148821453747574\n",
            "15 th eigen value is - 7.375537858883171\n",
            "16 th eigen value is - 7.130587505186889\n",
            "17 th eigen value is - 6.713980018772301\n",
            "18 th eigen value is - 6.60400748865692\n",
            "19 th eigen value is - 6.406048463263049\n",
            "20 th eigen value is - 6.237377432789668\n",
            "21 th eigen value is - 5.932291718047177\n",
            "22 th eigen value is - 5.760598548469457\n",
            "23 th eigen value is - 5.484033638105989\n",
            "24 th eigen value is - 5.318597209624185\n",
            "25 th eigen value is - 5.1287353422902555\n",
            "26 th eigen value is - 4.9606244586812\n",
            "27 th eigen value is - 4.905336616858233\n",
            "28 th eigen value is - 4.708434970274998\n",
            "29 th eigen value is - 4.529197596408168\n",
            "30 th eigen value is - 4.3947084917556465\n",
            "31 th eigen value is - 4.275221721532841\n",
            "32 th eigen value is - 4.213996933513345\n",
            "33 th eigen value is - 4.0983807896932145\n",
            "34 th eigen value is - 4.031811372993943\n",
            "35 th eigen value is - 3.977136242957249\n",
            "36 th eigen value is - 3.8605240852328753\n",
            "37 th eigen value is - 3.8086402073914374\n",
            "38 th eigen value is - 3.7256342580166892\n",
            "39 th eigen value is - 3.64393542780701\n",
            "40 th eigen value is - 3.4416973042172816\n",
            "41 th eigen value is - 3.416245166830124\n",
            "42 th eigen value is - 3.3637852743017476\n",
            "43 th eigen value is - 3.2577363106528194\n",
            "44 th eigen value is - 3.2362032261798235\n",
            "45 th eigen value is - 3.2047809989622835\n",
            "46 th eigen value is - 3.17911020964195\n",
            "47 th eigen value is - 3.1420572768009962\n",
            "48 th eigen value is - 3.085888587798534\n",
            "49 th eigen value is - 3.0607655603270065\n",
            "50 th eigen value is - 3.037599739946904\n",
            "51 th eigen value is - 2.9017195519365586\n",
            "52 th eigen value is - 2.8640856178376204\n",
            "53 th eigen value is - 2.849807870292322\n",
            "54 th eigen value is - 2.8237422003998014\n",
            "55 th eigen value is - 2.691682082536125\n",
            "56 th eigen value is - 2.7177812721692924\n",
            "57 th eigen value is - 2.7663295474337954\n",
            "58 th eigen value is - 2.6585071195664542\n",
            "59 th eigen value is - 2.6166948225923767\n",
            "60 th eigen value is - 2.5762280483517013\n",
            "61 th eigen value is - 2.5266222407651484\n",
            "62 th eigen value is - 2.493721995083972\n",
            "63 th eigen value is - 2.469470239335918\n",
            "64 th eigen value is - 2.4368950142216383\n",
            "65 th eigen value is - 2.408834227995767\n",
            "66 th eigen value is - 2.401172314871401\n",
            "67 th eigen value is - 2.379502311383121\n",
            "68 th eigen value is - 2.3161346950054984\n",
            "69 th eigen value is - 2.2677436925359302\n",
            "70 th eigen value is - 2.2459987028044064\n",
            "71 th eigen value is - 2.2279814927286012\n",
            "72 th eigen value is - 2.202968300748905\n",
            "73 th eigen value is - 2.1862712423951267\n",
            "74 th eigen value is - 2.1705183599903752\n",
            "75 th eigen value is - 2.147345556943029\n",
            "76 th eigen value is - 2.134983190009546\n",
            "77 th eigen value is - 2.1155549790558803\n",
            "78 th eigen value is - 2.0824761252475086\n",
            "79 th eigen value is - 2.056793157406784\n",
            "80 th eigen value is - 2.048343582058647\n",
            "81 th eigen value is - 2.0319959430297767\n",
            "82 th eigen value is - 2.026470387908619\n",
            "83 th eigen value is - 1.9460464717295067\n",
            "84 th eigen value is - 1.966242676663947\n",
            "85 th eigen value is - 1.9782417460294135\n",
            "86 th eigen value is - 1.989388844366515\n",
            "87 th eigen value is - 1.997015892623094\n",
            "88 th eigen value is - 2.0026528031549393\n",
            "89 th eigen value is - 2.0044144836941764\n",
            "90 th eigen value is - 1.9306475164912846\n",
            "91 th eigen value is - 1.9107245432708388\n",
            "92 th eigen value is - 1.8899093501120607\n",
            "93 th eigen value is - 1.8854660174007851\n",
            "94 th eigen value is - 1.8558200487451557\n",
            "95 th eigen value is - 1.8716436802861922\n",
            "96 th eigen value is - 1.836815536531655\n",
            "97 th eigen value is - 1.8201051427101334\n",
            "98 th eigen value is - 1.7957367902690067\n",
            "99 th eigen value is - 1.7769663520856258\n",
            "100 th eigen value is - 1.756919850795085\n",
            "101 th eigen value is - 1.7376546164534137\n",
            "102 th eigen value is - 1.7356263471203353\n",
            "103 th eigen value is - 1.7127654644261503\n",
            "104 th eigen value is - 1.7025786151931668\n",
            "105 th eigen value is - 1.6893404621271122\n",
            "106 th eigen value is - 1.6346443393429915\n",
            "107 th eigen value is - 1.6216961568019939\n",
            "108 th eigen value is - 1.6710194819231532\n",
            "109 th eigen value is - 1.594936678916104\n",
            "110 th eigen value is - 1.5977287408429444\n",
            "111 th eigen value is - 1.5643005176104579\n",
            "112 th eigen value is - 1.5577572376436724\n",
            "113 th eigen value is - 1.536390223764766\n",
            "114 th eigen value is - 1.5196187153395806\n",
            "115 th eigen value is - 1.5126945805246519\n",
            "116 th eigen value is - 1.4865824023472898\n",
            "117 th eigen value is - 1.4653443942848061\n",
            "118 th eigen value is - 1.437337704323863\n",
            "119 th eigen value is - 1.4512931473552624\n",
            "120 th eigen value is - 1.2403211690392622\n",
            "121 th eigen value is - 1.4255773261679603\n",
            "122 th eigen value is - 1.4681617967949827\n",
            "123 th eigen value is - 1.253313731052988\n",
            "124 th eigen value is - 1.2630718290567937\n",
            "125 th eigen value is - 1.2687558340942933\n",
            "126 th eigen value is - 1.3414539213310435\n",
            "127 th eigen value is - 1.3891196970750428\n",
            "128 th eigen value is - 1.3997189957328338\n",
            "129 th eigen value is - 1.2906592790288771\n",
            "130 th eigen value is - 1.374625717925484\n",
            "131 th eigen value is - 1.300085892580329\n",
            "132 th eigen value is - 1.2848426827744972\n",
            "133 th eigen value is - 1.3374830831362765\n",
            "134 th eigen value is - 1.3609037489791238\n",
            "135 th eigen value is - 1.3774031099117474\n",
            "136 th eigen value is - 1.2832594017074965\n",
            "137 th eigen value is - 1.2333798934243292\n",
            "138 th eigen value is - 1.2097936498285233\n",
            "139 th eigen value is - 1.2082869215024248\n",
            "140 th eigen value is - 1.1962735594858664\n",
            "141 th eigen value is - 1.150734371604087\n",
            "142 th eigen value is - 1.157872365530172\n",
            "143 th eigen value is - 1.1780045792066411\n",
            "144 th eigen value is - 1.1810509313681317\n",
            "145 th eigen value is - 1.1800220178751484\n",
            "146 th eigen value is - 1.1394199672060417\n",
            "147 th eigen value is - 1.1292187126813902\n",
            "148 th eigen value is - 0.9135217109421668\n",
            "149 th eigen value is - 0.919501125007656\n",
            "150 th eigen value is - 1.1179488802536328\n",
            "151 th eigen value is - 1.1159426987649121\n",
            "152 th eigen value is - 1.1045060061907748\n",
            "153 th eigen value is - 1.108971231271758\n",
            "154 th eigen value is - 1.0870234739191458\n",
            "155 th eigen value is - 0.9272709315074762\n",
            "156 th eigen value is - 1.0774650951070492\n",
            "157 th eigen value is - 0.93421748271936\n",
            "158 th eigen value is - 0.9397118225658603\n",
            "159 th eigen value is - -1.0079449205869454e-14\n",
            "160 th eigen value is - -1.015172428412344e-15\n",
            "161 th eigen value is - 4.530678310875832e-16\n",
            "162 th eigen value is - 1.066631031317654\n",
            "163 th eigen value is - 0.9529478825907197\n",
            "164 th eigen value is - 0.9586545394317211\n",
            "165 th eigen value is - 1.0576315627343804\n",
            "166 th eigen value is - 1.0527181053159977\n",
            "167 th eigen value is - 1.0377804039796679\n",
            "168 th eigen value is - 1.0437374872839733\n",
            "169 th eigen value is - 1.02457526495706\n",
            "170 th eigen value is - -6.129273719407399e-17\n",
            "171 th eigen value is - 0.9738628881740568\n",
            "172 th eigen value is - 0.9763229021433928\n",
            "173 th eigen value is - 0.9811928631174464\n",
            "174 th eigen value is - 1.0454233762555727\n",
            "175 th eigen value is - 1.0114014005793661\n",
            "176 th eigen value is - 0.9881576826968219\n",
            "177 th eigen value is - 0.9919119975741816\n",
            "178 th eigen value is - 1.0033765396655436\n",
            "179 th eigen value is - 1.001731843382937\n",
            "180 th eigen value is - 0.9982611400274913\n",
            "181 th eigen value is - 0.9950200753717509\n",
            "182 th eigen value is - 1.0004685503607489\n",
            "183 th eigen value is - 0.9991919193130642\n",
            "184 th eigen value is - 0.715476545002711\n",
            "185 th eigen value is - 0.7229257022806912\n",
            "186 th eigen value is - 0.731877290092047\n",
            "187 th eigen value is - 0.7404443832651204\n",
            "188 th eigen value is - 0.7428519244122574\n",
            "189 th eigen value is - 0.7501987272437827\n",
            "190 th eigen value is - 0.756264498433298\n",
            "191 th eigen value is - 0.7629087155707157\n",
            "192 th eigen value is - 0.7782845698555241\n",
            "193 th eigen value is - 0.7674067920164677\n",
            "194 th eigen value is - 0.7844739674086778\n",
            "195 th eigen value is - 0.8034492312537891\n",
            "196 th eigen value is - 0.8082150892806113\n",
            "197 th eigen value is - 0.8152679279035014\n",
            "198 th eigen value is - 0.8231173999476588\n",
            "199 th eigen value is - 0.9093299821755946\n",
            "200 th eigen value is - 0.833410974587253\n",
            "201 th eigen value is - 0.8985718290046129\n",
            "202 th eigen value is - 0.8371846293625528\n",
            "203 th eigen value is - 0.8894158646320846\n",
            "204 th eigen value is - 0.852487702481871\n",
            "205 th eigen value is - 0.8538674043382957\n",
            "206 th eigen value is - 0.8712143820968048\n",
            "207 th eigen value is - 0.8720152653929403\n",
            "208 th eigen value is - 0.8432358959620267\n",
            "209 th eigen value is - 0.8604321644995514\n",
            "210 th eigen value is - 0.8818066205770111\n",
            "211 th eigen value is - 0.599225351800873\n",
            "212 th eigen value is - 0.6023559055941511\n",
            "213 th eigen value is - 0.6061281790871994\n",
            "214 th eigen value is - 0.6181528727563962\n",
            "215 th eigen value is - 0.61703015689093\n",
            "216 th eigen value is - 0.623195035646076\n",
            "217 th eigen value is - 0.6434964683324274\n",
            "218 th eigen value is - 0.6392639384480334\n",
            "219 th eigen value is - 0.7007175944550791\n",
            "220 th eigen value is - 0.6365708828333371\n",
            "221 th eigen value is - 0.6577884356097394\n",
            "222 th eigen value is - 0.6644880831591435\n",
            "223 th eigen value is - 0.6515331266239784\n",
            "224 th eigen value is - 0.6944216029965657\n",
            "225 th eigen value is - 0.7112280392926454\n",
            "226 th eigen value is - 0.6795325925734956\n",
            "227 th eigen value is - 0.7181440634644469\n",
            "228 th eigen value is - 0.6766477555894984\n",
            "229 th eigen value is - 0.6786326280899067\n",
            "230 th eigen value is - 0.6301721168489947\n",
            "231 th eigen value is - 0.6869324076499572\n",
            "232 th eigen value is - 0.6857272386879761\n",
            "233 th eigen value is - 0.5037145547446799\n",
            "234 th eigen value is - 0.5098251441410334\n",
            "235 th eigen value is - 0.5139347406470733\n",
            "236 th eigen value is - 0.5202176843659396\n",
            "237 th eigen value is - 0.5213206457653987\n",
            "238 th eigen value is - 0.5378810943949911\n",
            "239 th eigen value is - 0.5331239286283984\n",
            "240 th eigen value is - 0.5298672676798698\n",
            "241 th eigen value is - 0.5494976432925088\n",
            "242 th eigen value is - 0.5678523148464942\n",
            "243 th eigen value is - 0.5531777836507765\n",
            "244 th eigen value is - 0.5616243322333221\n",
            "245 th eigen value is - 0.5583833454842533\n",
            "246 th eigen value is - 0.588509327146649\n",
            "247 th eigen value is - 0.5829076664823692\n",
            "248 th eigen value is - 0.5251619150999189\n",
            "249 th eigen value is - 0.5908339612079375\n",
            "250 th eigen value is - 0.5809133741360103\n",
            "251 th eigen value is - 0.4446954439795278\n",
            "252 th eigen value is - 0.44745844328435236\n",
            "253 th eigen value is - 0.45018910105704063\n",
            "254 th eigen value is - 0.45324425273607616\n",
            "255 th eigen value is - 0.45625423056267217\n",
            "256 th eigen value is - 0.4598461633942835\n",
            "257 th eigen value is - 0.4696952384528746\n",
            "258 th eigen value is - 0.4755836996382266\n",
            "259 th eigen value is - 0.48146810834504244\n",
            "260 th eigen value is - 0.46211140722292215\n",
            "261 th eigen value is - 0.4849836423472083\n",
            "262 th eigen value is - 0.4977187365440947\n",
            "263 th eigen value is - 0.48718588638140736\n",
            "264 th eigen value is - 0.4673685120385751\n",
            "265 th eigen value is - 0.48643207635541114\n",
            "266 th eigen value is - 0.49797751926124323\n",
            "267 th eigen value is - 0.38770526820909\n",
            "268 th eigen value is - 0.3905160494288122\n",
            "269 th eigen value is - 0.3945025876016738\n",
            "270 th eigen value is - 0.39558020395111737\n",
            "271 th eigen value is - 0.3990653079822869\n",
            "272 th eigen value is - 0.40067132281906415\n",
            "273 th eigen value is - 0.42918924795146207\n",
            "274 th eigen value is - 0.434404141434755\n",
            "275 th eigen value is - 0.43667587841983435\n",
            "276 th eigen value is - 0.4243685632915095\n",
            "277 th eigen value is - 0.4164130294818208\n",
            "278 th eigen value is - 0.41244956648726117\n",
            "279 th eigen value is - 0.40847187816435176\n",
            "280 th eigen value is - 0.41848534739704657\n",
            "281 th eigen value is - 0.4105821621217904\n",
            "282 th eigen value is - 0.4043444314890091\n",
            "283 th eigen value is - 0.3438465916024995\n",
            "284 th eigen value is - 0.3461998646959752\n",
            "285 th eigen value is - 0.35299113038342256\n",
            "286 th eigen value is - 0.3563851947832227\n",
            "287 th eigen value is - 0.35905666251318447\n",
            "288 th eigen value is - 0.36073195233165006\n",
            "289 th eigen value is - 0.37199860343091457\n",
            "290 th eigen value is - 0.3691212220988566\n",
            "291 th eigen value is - 0.3644806183402092\n",
            "292 th eigen value is - 0.3745558464310454\n",
            "293 th eigen value is - 0.38176977472749685\n",
            "294 th eigen value is - 0.3863096171873719\n",
            "295 th eigen value is - 0.36377277285135773\n",
            "296 th eigen value is - 0.37968902624572204\n",
            "297 th eigen value is - 0.3772925430109144\n",
            "298 th eigen value is - 0.2976882508560984\n",
            "299 th eigen value is - 0.3005959924411994\n",
            "300 th eigen value is - 0.3020445909382598\n",
            "301 th eigen value is - 0.30456563297984174\n",
            "302 th eigen value is - 0.3088173141539661\n",
            "303 th eigen value is - 0.31738939017294177\n",
            "304 th eigen value is - 0.32020430448611903\n",
            "305 th eigen value is - 0.32898079711977907\n",
            "306 th eigen value is - 0.3274937681991811\n",
            "307 th eigen value is - 0.3222300958484839\n",
            "308 th eigen value is - 0.3099819177987714\n",
            "309 th eigen value is - 0.3341273187841361\n",
            "310 th eigen value is - 0.33778757200620246\n",
            "311 th eigen value is - 0.3143274185731691\n",
            "312 th eigen value is - 0.34195215505664267\n",
            "313 th eigen value is - 0.34129951678177656\n",
            "314 th eigen value is - 0.31419081451980296\n",
            "315 th eigen value is - 0.2577429099253164\n",
            "316 th eigen value is - 0.2628228973210842\n",
            "317 th eigen value is - 0.2656664683254793\n",
            "318 th eigen value is - 0.26963483956261436\n",
            "319 th eigen value is - 0.2717852046307341\n",
            "320 th eigen value is - 0.2690443930373481\n",
            "321 th eigen value is - 0.2746396776935321\n",
            "322 th eigen value is - 0.2963232968539844\n",
            "323 th eigen value is - 0.27691481864306056\n",
            "324 th eigen value is - 0.27729254995882935\n",
            "325 th eigen value is - 0.29422457810584457\n",
            "326 th eigen value is - 0.2796943552549962\n",
            "327 th eigen value is - 0.2834064084932734\n",
            "328 th eigen value is - 0.2879022847698235\n",
            "329 th eigen value is - 5.998051578064374e-15\n",
            "330 th eigen value is - 0.2895075450522405\n",
            "331 th eigen value is - 0.2928650999700452\n",
            "332 th eigen value is - 0.2856951200049531\n",
            "333 th eigen value is - 0.28113563769540095\n",
            "334 th eigen value is - 0.22220950744838572\n",
            "335 th eigen value is - 0.2230964536511811\n",
            "336 th eigen value is - 0.22896372034790063\n",
            "337 th eigen value is - 0.23166013873136065\n",
            "338 th eigen value is - 0.23299199614302904\n",
            "339 th eigen value is - 0.23575446438173636\n",
            "340 th eigen value is - 0.23829262235673532\n",
            "341 th eigen value is - 0.24005381701441475\n",
            "342 th eigen value is - 0.24519808805331536\n",
            "343 th eigen value is - 0.24756326492229672\n",
            "344 th eigen value is - 0.243064419096739\n",
            "345 th eigen value is - 0.256874311130106\n",
            "346 th eigen value is - 0.2413078068832363\n",
            "347 th eigen value is - 0.25274696399551855\n",
            "348 th eigen value is - 0.2546040008288333\n",
            "349 th eigen value is - 0.24984316292425127\n",
            "350 th eigen value is - 0.25362639214574606\n",
            "351 th eigen value is - 0.23668285258721591\n",
            "352 th eigen value is - 0.26085535104732765\n",
            "353 th eigen value is - 0.19824337443131948\n",
            "354 th eigen value is - 0.1988399175854581\n",
            "355 th eigen value is - 0.20089863800233282\n",
            "356 th eigen value is - 0.202460527124936\n",
            "357 th eigen value is - 0.2033321921248259\n",
            "358 th eigen value is - 0.20473129506845048\n",
            "359 th eigen value is - 0.20610956640063324\n",
            "360 th eigen value is - 0.21107534974806352\n",
            "361 th eigen value is - 0.21665668599397653\n",
            "362 th eigen value is - 0.20785597748156381\n",
            "363 th eigen value is - 0.21545143542720008\n",
            "364 th eigen value is - 0.21259922144725493\n",
            "365 th eigen value is - 0.22582673630279826\n",
            "366 th eigen value is - 0.21974677196025158\n",
            "367 th eigen value is - 0.2134538017106296\n",
            "368 th eigen value is - 0.22143647762300275\n",
            "369 th eigen value is - 0.21840359457660638\n",
            "370 th eigen value is - 0.23055519207821112\n",
            "371 th eigen value is - 0.20813056366627247\n",
            "372 th eigen value is - 0.17369049838772463\n",
            "373 th eigen value is - 0.17442008913207172\n",
            "374 th eigen value is - 0.1749670189594603\n",
            "375 th eigen value is - 0.17525532378714484\n",
            "376 th eigen value is - 0.17801180889780843\n",
            "377 th eigen value is - 0.1790609272489937\n",
            "378 th eigen value is - 0.18014874736232805\n",
            "379 th eigen value is - 0.18594702629271484\n",
            "380 th eigen value is - 0.18643856981806234\n",
            "381 th eigen value is - 0.18329739917803314\n",
            "382 th eigen value is - 0.1814548077219631\n",
            "383 th eigen value is - 0.1905296440997641\n",
            "384 th eigen value is - 0.1907263674283534\n",
            "385 th eigen value is - 0.18200592364851356\n",
            "386 th eigen value is - 0.19538852716038588\n",
            "387 th eigen value is - 0.18857034038481307\n",
            "388 th eigen value is - 0.1936201676740345\n",
            "389 th eigen value is - 0.1939685462354922\n",
            "390 th eigen value is - 0.15297860373721678\n",
            "391 th eigen value is - 0.15395624841250435\n",
            "392 th eigen value is - 0.1550605581753217\n",
            "393 th eigen value is - 0.15572015624740562\n",
            "394 th eigen value is - 0.15650517460191626\n",
            "395 th eigen value is - 0.17048623300371113\n",
            "396 th eigen value is - 0.15781750072918466\n",
            "397 th eigen value is - 0.16934861047034777\n",
            "398 th eigen value is - 0.16994686466006645\n",
            "399 th eigen value is - 0.16714621336525998\n",
            "400 th eigen value is - 0.15899274120366458\n",
            "401 th eigen value is - 0.1628582972585604\n",
            "402 th eigen value is - 0.16175172340686644\n",
            "403 th eigen value is - 0.1607240152041107\n",
            "404 th eigen value is - 0.15874175224030734\n",
            "405 th eigen value is - 0.16535800741193216\n",
            "406 th eigen value is - 0.1642381821822855\n",
            "407 th eigen value is - 0.1647028808840082\n",
            "408 th eigen value is - 0.1684652370143306\n",
            "409 th eigen value is - 0.16118198840328424\n",
            "410 th eigen value is - 0.1342354826012\n",
            "411 th eigen value is - 0.13526022386085335\n",
            "412 th eigen value is - 0.1355935902038024\n",
            "413 th eigen value is - 0.13664307203846568\n",
            "414 th eigen value is - 0.13622112677418008\n",
            "415 th eigen value is - 0.14010227056798072\n",
            "416 th eigen value is - 0.14071674647345422\n",
            "417 th eigen value is - 0.1478658019688549\n",
            "418 th eigen value is - 0.14848173534738035\n",
            "419 th eigen value is - 0.14958476993303582\n",
            "420 th eigen value is - 0.1516957788100232\n",
            "421 th eigen value is - 0.14212817718768592\n",
            "422 th eigen value is - 0.1453322731621777\n",
            "423 th eigen value is - 0.14336707406608853\n",
            "424 th eigen value is - 0.14608027832063478\n",
            "425 th eigen value is - 0.1509173482604081\n",
            "426 th eigen value is - 0.1419946191883636\n",
            "427 th eigen value is - 0.14328342210583034\n",
            "428 th eigen value is - 0.007172426039060427\n",
            "429 th eigen value is - 0.006565594364750805\n",
            "430 th eigen value is - 0.13276501699415363\n",
            "431 th eigen value is - 0.13258429447793063\n",
            "432 th eigen value is - 0.13147579871453707\n",
            "433 th eigen value is - 0.11746650833141344\n",
            "434 th eigen value is - 0.12951963865563873\n",
            "435 th eigen value is - 0.11811889788216633\n",
            "436 th eigen value is - 0.11901489471117008\n",
            "437 th eigen value is - 0.11861806304396665\n",
            "438 th eigen value is - 0.12844331538496606\n",
            "439 th eigen value is - 0.11969164625799317\n",
            "440 th eigen value is - 0.12731035240973015\n",
            "441 th eigen value is - 0.12554521743981678\n",
            "442 th eigen value is - 0.12637050869332417\n",
            "443 th eigen value is - 0.12621845955019131\n",
            "444 th eigen value is - 0.12414318993533187\n",
            "445 th eigen value is - 0.1206579047003891\n",
            "446 th eigen value is - 0.12196569215824873\n",
            "447 th eigen value is - 0.12265619183677626\n",
            "448 th eigen value is - 0.12220021366996177\n",
            "449 th eigen value is - 0.12093146683068888\n",
            "450 th eigen value is - 0.12420417262625955\n",
            "451 th eigen value is - 0.12839566549104878\n",
            "452 th eigen value is - 0.013885654218683945\n",
            "453 th eigen value is - 0.018322162868284288\n",
            "454 th eigen value is - 0.018943930499107173\n",
            "455 th eigen value is - 0.11407538949993566\n",
            "456 th eigen value is - 0.11512362367649284\n",
            "457 th eigen value is - 0.11587348582499211\n",
            "458 th eigen value is - 0.11672347002589184\n",
            "459 th eigen value is - 0.11268655158345887\n",
            "460 th eigen value is - 0.11215158775923995\n",
            "461 th eigen value is - 0.11146088361736535\n",
            "462 th eigen value is - 0.11733593936188741\n",
            "463 th eigen value is - 0.1025337001367882\n",
            "464 th eigen value is - 0.10390367797803854\n",
            "465 th eigen value is - 0.10287877231103425\n",
            "466 th eigen value is - 0.108447512331227\n",
            "467 th eigen value is - 0.11018997333553475\n",
            "468 th eigen value is - 0.1092510773491377\n",
            "469 th eigen value is - 0.11033758817862246\n",
            "470 th eigen value is - 0.10751215634768574\n",
            "471 th eigen value is - 0.10610587493119554\n",
            "472 th eigen value is - 0.10521153988556914\n",
            "473 th eigen value is - 0.10712372857415284\n",
            "474 th eigen value is - 0.10296891566805362\n",
            "475 th eigen value is - 0.10690645190560008\n",
            "476 th eigen value is - 0.10559699562492078\n",
            "477 th eigen value is - 0.10555731020837479\n",
            "478 th eigen value is - 0.020292199929250715\n",
            "479 th eigen value is - 0.021071878655021317\n",
            "480 th eigen value is - 0.021499929860630852\n",
            "481 th eigen value is - 0.021665698841209936\n",
            "482 th eigen value is - 0.022264998521814343\n",
            "483 th eigen value is - 0.022998981717821363\n",
            "484 th eigen value is - 0.023336229158555547\n",
            "485 th eigen value is - 0.023587578941635826\n",
            "486 th eigen value is - 0.023796197851212376\n",
            "487 th eigen value is - 0.023952688129527732\n",
            "488 th eigen value is - 0.02422221121790126\n",
            "489 th eigen value is - 0.02446703769154415\n",
            "490 th eigen value is - 0.024862779994954405\n",
            "491 th eigen value is - 0.025104764474519654\n",
            "492 th eigen value is - 0.025416056673927566\n",
            "493 th eigen value is - 0.02560637382001356\n",
            "494 th eigen value is - 0.10147981505454869\n",
            "495 th eigen value is - 0.10126208025613989\n",
            "496 th eigen value is - 0.1010164742125488\n",
            "497 th eigen value is - 0.10008985144872917\n",
            "498 th eigen value is - 0.09998927190855472\n",
            "499 th eigen value is - 0.09913381823991095\n",
            "500 th eigen value is - 0.09867110401723242\n",
            "501 th eigen value is - 0.09812154768757722\n",
            "502 th eigen value is - 0.02607932741261055\n",
            "503 th eigen value is - 0.09762512514087636\n",
            "504 th eigen value is - 0.026123428755380956\n",
            "505 th eigen value is - 0.09569293383456774\n",
            "506 th eigen value is - 0.09622310284925158\n",
            "507 th eigen value is - 0.09607207670408408\n",
            "508 th eigen value is - 0.02656086115494507\n",
            "509 th eigen value is - 0.09445721748859132\n",
            "510 th eigen value is - 0.092759469990214\n",
            "511 th eigen value is - 0.09347233022330828\n",
            "512 th eigen value is - 0.09187048786488025\n",
            "513 th eigen value is - 0.09394334044621283\n",
            "514 th eigen value is - 0.09412946109170482\n",
            "515 th eigen value is - 0.09312893420745913\n",
            "516 th eigen value is - 0.09015265618997749\n",
            "517 th eigen value is - 0.08921930587489696\n",
            "518 th eigen value is - 0.09074513409381689\n",
            "519 th eigen value is - 0.026843648320165638\n",
            "520 th eigen value is - 0.027010396936108343\n",
            "521 th eigen value is - 0.02738692281656893\n",
            "522 th eigen value is - 0.027442851433048702\n",
            "523 th eigen value is - 0.027758268483601314\n",
            "524 th eigen value is - 0.027818774439927245\n",
            "525 th eigen value is - 0.028309734345632637\n",
            "526 th eigen value is - 0.03155625571088406\n",
            "527 th eigen value is - 0.028570802518450057\n",
            "528 th eigen value is - 0.02864862206440504\n",
            "529 th eigen value is - 0.02888358011070852\n",
            "530 th eigen value is - 0.031139803059268674\n",
            "531 th eigen value is - 0.030868871644476437\n",
            "532 th eigen value is - 0.02926308402593842\n",
            "533 th eigen value is - 0.03060718861819424\n",
            "534 th eigen value is - 0.02943194577024485\n",
            "535 th eigen value is - 0.029794961552809245\n",
            "536 th eigen value is - 0.029964422330695215\n",
            "537 th eigen value is - 0.030069664092949817\n",
            "538 th eigen value is - 0.0910168920129134\n",
            "539 th eigen value is - 0.08966363793894234\n",
            "540 th eigen value is - 0.08872771395581679\n",
            "541 th eigen value is - 0.08745452431052277\n",
            "542 th eigen value is - 0.08735806138029929\n",
            "543 th eigen value is - 0.08805682742141797\n",
            "544 th eigen value is - 0.0880285263395793\n",
            "545 th eigen value is - 0.085204842762848\n",
            "546 th eigen value is - 0.08617009167201224\n",
            "547 th eigen value is - 0.08629068320682338\n",
            "548 th eigen value is - 0.0855990560855821\n",
            "549 th eigen value is - 0.08367228267366868\n",
            "550 th eigen value is - 0.08445293692279575\n",
            "551 th eigen value is - 0.08464726947571148\n",
            "552 th eigen value is - 0.08308665068721131\n",
            "553 th eigen value is - 0.08256087883826661\n",
            "554 th eigen value is - 0.08185005137928847\n",
            "555 th eigen value is - 0.08167031603002715\n",
            "556 th eigen value is - 0.08115422923290712\n",
            "557 th eigen value is - 0.07170998146462657\n",
            "558 th eigen value is - 0.0722039987701984\n",
            "559 th eigen value is - 0.08047385656353367\n",
            "560 th eigen value is - 0.07986033696105178\n",
            "561 th eigen value is - 0.0795480198734448\n",
            "562 th eigen value is - 0.08066392123710298\n",
            "563 th eigen value is - 0.07293749551566885\n",
            "564 th eigen value is - 0.07329328427124772\n",
            "565 th eigen value is - 0.07873998611995028\n",
            "566 th eigen value is - 0.07353123190084486\n",
            "567 th eigen value is - 0.07844519352470268\n",
            "568 th eigen value is - 0.07511809697040066\n",
            "569 th eigen value is - 0.0754886634482644\n",
            "570 th eigen value is - 0.0780337541196113\n",
            "571 th eigen value is - 0.07465295565065777\n",
            "572 th eigen value is - 0.07404406783371163\n",
            "573 th eigen value is - 0.07383665110001057\n",
            "574 th eigen value is - 0.07770298267297089\n",
            "575 th eigen value is - 0.07574748761325488\n",
            "576 th eigen value is - 0.07625425394373624\n",
            "577 th eigen value is - 0.07732596233674595\n",
            "578 th eigen value is - 0.07664437819743852\n",
            "579 th eigen value is - 0.07683336155269767\n",
            "580 th eigen value is - 0.0767910574904104\n",
            "581 th eigen value is - 0.031303438895164036\n",
            "582 th eigen value is - 0.03179337064307869\n",
            "583 th eigen value is - 0.06983160805328728\n",
            "584 th eigen value is - 0.07087567691761791\n",
            "585 th eigen value is - 0.07157068310419011\n",
            "586 th eigen value is - 0.03210371160270328\n",
            "587 th eigen value is - 0.03246658743116169\n",
            "588 th eigen value is - 0.032310601578224726\n",
            "589 th eigen value is - 0.032858307070952573\n",
            "590 th eigen value is - 0.033333675779741924\n",
            "591 th eigen value is - 0.0330425629586325\n",
            "592 th eigen value is - 0.03303216757638636\n",
            "593 th eigen value is - 0.06605282326781715\n",
            "594 th eigen value is - 0.06731168330717657\n",
            "595 th eigen value is - 0.06625861242437278\n",
            "596 th eigen value is - 0.06815147010210174\n",
            "597 th eigen value is - 0.06920241618240969\n",
            "598 th eigen value is - 0.06892877197109072\n",
            "599 th eigen value is - 0.06967727347116295\n",
            "600 th eigen value is - 0.06857115778541381\n",
            "601 th eigen value is - 0.07075078227705839\n",
            "602 th eigen value is - 0.06780160370363769\n",
            "603 th eigen value is - 0.07103119591704748\n",
            "604 th eigen value is - 0.0339543617142716\n",
            "605 th eigen value is - 0.03414894605421805\n",
            "606 th eigen value is - 0.03431302233518136\n",
            "607 th eigen value is - 0.03673442764435079\n",
            "608 th eigen value is - 0.034524440649144936\n",
            "609 th eigen value is - 0.034611076372863585\n",
            "610 th eigen value is - 0.034849837775292346\n",
            "611 th eigen value is - 0.035035855119931625\n",
            "612 th eigen value is - 0.03618795575125924\n",
            "613 th eigen value is - 0.03591625444535591\n",
            "614 th eigen value is - 0.03546316595017723\n",
            "615 th eigen value is - 0.06428154280776092\n",
            "616 th eigen value is - 0.06471056002262864\n",
            "617 th eigen value is - 0.06516001526150351\n",
            "618 th eigen value is - 0.06365310837105362\n",
            "619 th eigen value is - 0.0674223770864823\n",
            "620 th eigen value is - 0.05966772771119085\n",
            "621 th eigen value is - 0.06176608879277417\n",
            "622 th eigen value is - 0.06223279656907797\n",
            "623 th eigen value is - 0.06334097010297457\n",
            "624 th eigen value is - 0.06653572419100404\n",
            "625 th eigen value is - 0.0630312611046909\n",
            "626 th eigen value is - 0.06116246572831384\n",
            "627 th eigen value is - 0.06003264367321607\n",
            "628 th eigen value is - 0.03599430787849378\n",
            "629 th eigen value is - 0.035402330065160754\n",
            "630 th eigen value is - 0.06622646857143734\n",
            "631 th eigen value is - 0.06033492975941258\n",
            "632 th eigen value is - 0.06079239597784784\n",
            "633 th eigen value is - 0.06272383219456469\n",
            "634 th eigen value is - 0.06060780829807575\n",
            "635 th eigen value is - 0.06274885136365219\n",
            "636 th eigen value is - 0.03656199186440348\n",
            "637 th eigen value is - 0.037112780174664746\n",
            "638 th eigen value is - 0.06054347345691141\n",
            "639 th eigen value is - 0.05889997616006118\n",
            "640 th eigen value is - 0.058862827132793075\n",
            "641 th eigen value is - 0.058551087854344305\n",
            "642 th eigen value is - 0.037284509581476555\n",
            "643 th eigen value is - 0.03749938758933743\n",
            "644 th eigen value is - 0.057994310830899995\n",
            "645 th eigen value is - 0.037869375572014405\n",
            "646 th eigen value is - 0.03835211857172599\n",
            "647 th eigen value is - 0.050549738664266555\n",
            "648 th eigen value is - 0.04991162441354547\n",
            "649 th eigen value is - 0.051047913782717766\n",
            "650 th eigen value is - 0.057649433450518615\n",
            "651 th eigen value is - 0.056881166048709346\n",
            "652 th eigen value is - 0.045437949908578794\n",
            "653 th eigen value is - 0.04490386025738622\n",
            "654 th eigen value is - 0.056324352281907165\n",
            "655 th eigen value is - 0.03864486834861602\n",
            "656 th eigen value is - 0.04354450216492581\n",
            "657 th eigen value is - 0.04336553022114717\n",
            "658 th eigen value is - 0.05568550202718442\n",
            "659 th eigen value is - 0.052555983324483024\n",
            "660 th eigen value is - 0.054870986046976905\n",
            "661 th eigen value is - 0.05327031795008042\n",
            "662 th eigen value is - 0.039376936470907634\n",
            "663 th eigen value is - 0.05784374074887824\n",
            "664 th eigen value is - 0.05358491742631553\n",
            "665 th eigen value is - 0.04253076338754818\n",
            "666 th eigen value is - 0.0553722709591276\n",
            "667 th eigen value is - 0.0572765424901445\n",
            "668 th eigen value is - 0.03947267172860224\n",
            "669 th eigen value is - 0.0389699452644589\n",
            "670 th eigen value is - 0.03995657012858006\n",
            "671 th eigen value is - 0.04061640647810449\n",
            "672 th eigen value is - 0.04089441481439767\n",
            "673 th eigen value is - 0.04106750700485076\n",
            "674 th eigen value is - 0.05417284686300597\n",
            "675 th eigen value is - 0.03828160862724375\n",
            "676 th eigen value is - 0.04014501194027137\n",
            "677 th eigen value is - 0.03985267460953626\n",
            "678 th eigen value is - 0.05602553217032085\n",
            "679 th eigen value is - 0.056129155705800314\n",
            "680 th eigen value is - 0.05439669427981513\n",
            "681 th eigen value is - 0.04034338856957843\n",
            "682 th eigen value is - 0.0542523141038197\n",
            "683 th eigen value is - 0.053482581392015574\n",
            "684 th eigen value is - 0.04155445894677676\n",
            "685 th eigen value is - 0.0415973853410129\n",
            "686 th eigen value is - 0.05263105660191156\n",
            "687 th eigen value is - 0.04209297714206415\n",
            "688 th eigen value is - 0.04233485294596359\n",
            "689 th eigen value is - 0.052036294060556605\n",
            "690 th eigen value is - 0.051479360086398154\n",
            "691 th eigen value is - 0.051412470630977654\n",
            "692 th eigen value is - 0.04310863963662892\n",
            "693 th eigen value is - 0.04298955971374637\n",
            "694 th eigen value is - 0.0520588390262636\n",
            "695 th eigen value is - 0.04511083977818969\n",
            "696 th eigen value is - 0.04586807127956367\n",
            "697 th eigen value is - 0.044374169668498636\n",
            "698 th eigen value is - 0.04641651839025107\n",
            "699 th eigen value is - 0.04896088001232706\n",
            "700 th eigen value is - 0.04867597793596563\n",
            "701 th eigen value is - 0.04678456981553172\n",
            "702 th eigen value is - 0.04977608142956821\n",
            "703 th eigen value is - 0.04380936178128909\n",
            "704 th eigen value is - 0.04953788204661822\n",
            "705 th eigen value is - 0.04604593933170378\n",
            "706 th eigen value is - 0.047148170462483686\n",
            "707 th eigen value is - 0.04811566310464683\n",
            "708 th eigen value is - 0.04449700071768805\n",
            "709 th eigen value is - 0.04844617651351615\n",
            "710 th eigen value is - 0.0469737833813712\n",
            "711 th eigen value is - 0.04944723718200606\n",
            "712 th eigen value is - 0.04044088037090675\n",
            "713 th eigen value is - 0.04769829841187965\n",
            "714 th eigen value is - 0.047846159836707966\n",
            "715 th eigen value is - 0.042000217281811324\n",
            "716 th eigen value is - 0.04417317654876368\n",
            "717 th eigen value is - 0.048401906270731265\n",
            "718 th eigen value is - 0.0\n",
            "719 th eigen value is - 0.0\n",
            "720 th eigen value is - 0.0\n",
            "721 th eigen value is - 0.0\n",
            "722 th eigen value is - 0.0\n",
            "723 th eigen value is - 0.0\n",
            "724 th eigen value is - 0.0\n",
            "725 th eigen value is - 0.0\n",
            "726 th eigen value is - 0.0\n",
            "727 th eigen value is - 0.0\n",
            "728 th eigen value is - 0.0\n",
            "729 th eigen value is - 0.0\n",
            "730 th eigen value is - 0.0\n",
            "731 th eigen value is - 0.0\n",
            "732 th eigen value is - 0.0\n",
            "733 th eigen value is - 0.0\n",
            "734 th eigen value is - 0.0\n",
            "735 th eigen value is - 0.0\n",
            "736 th eigen value is - 0.0\n",
            "737 th eigen value is - 0.0\n",
            "738 th eigen value is - 0.0\n",
            "739 th eigen value is - 0.0\n",
            "740 th eigen value is - 0.0\n",
            "741 th eigen value is - 0.0\n",
            "742 th eigen value is - 0.0\n",
            "743 th eigen value is - 0.0\n",
            "744 th eigen value is - 0.0\n",
            "745 th eigen value is - 0.0\n",
            "746 th eigen value is - 0.0\n",
            "747 th eigen value is - 0.0\n",
            "748 th eigen value is - 0.0\n",
            "749 th eigen value is - 0.0\n",
            "750 th eigen value is - 0.0\n",
            "751 th eigen value is - 0.0\n",
            "752 th eigen value is - 0.0\n",
            "753 th eigen value is - 0.0\n",
            "754 th eigen value is - 0.0\n",
            "755 th eigen value is - 0.0\n",
            "756 th eigen value is - 0.0\n",
            "757 th eigen value is - 0.0\n",
            "758 th eigen value is - 0.0\n",
            "759 th eigen value is - 0.0\n",
            "760 th eigen value is - 0.0\n",
            "761 th eigen value is - 0.0\n",
            "762 th eigen value is - 0.0\n",
            "763 th eigen value is - 0.0\n",
            "764 th eigen value is - 0.0\n",
            "765 th eigen value is - 0.0\n",
            "766 th eigen value is - 0.0\n",
            "767 th eigen value is - 0.0\n",
            "768 th eigen value is - 0.0\n",
            "769 th eigen value is - 0.0\n",
            "770 th eigen value is - 0.0\n",
            "771 th eigen value is - 0.0\n",
            "772 th eigen value is - 0.0\n",
            "773 th eigen value is - 0.0\n",
            "774 th eigen value is - 0.0\n",
            "775 th eigen value is - 0.0\n",
            "776 th eigen value is - 0.0\n",
            "777 th eigen value is - 0.0\n",
            "778 th eigen value is - 0.0\n",
            "779 th eigen value is - 0.0\n",
            "780 th eigen value is - 0.0\n",
            "781 th eigen value is - 0.0\n",
            "782 th eigen value is - 0.0\n",
            "783 th eigen value is - 0.0\n",
            "784 th eigen value is - 0.0\n"
          ]
        }
      ]
    },
    {
      "cell_type": "markdown",
      "source": [
        "\n",
        "\n",
        "> Calculating total variance present along all principal directions.\n",
        "\n"
      ],
      "metadata": {
        "id": "8HxKVF8_VIWN"
      }
    },
    {
      "cell_type": "code",
      "source": [
        "variance = 0\n",
        "for i in range (784):\n",
        "  variance = ( variance + eig_vals[i])\n",
        "print(variance)"
      ],
      "metadata": {
        "colab": {
          "base_uri": "https://localhost:8080/"
        },
        "id": "T8KKpvOnw_EE",
        "outputId": "2d324fb0-3b62-4737-9700-5cf6e760c526"
      },
      "execution_count": 14,
      "outputs": [
        {
          "output_type": "stream",
          "name": "stdout",
          "text": [
            "717.011950199189\n"
          ]
        }
      ]
    },
    {
      "cell_type": "markdown",
      "source": [
        "\n",
        "\n",
        "> Total variance of normalized dataset comes out to be around 717. Now calculating along how many to principal directoins 95% variance captured.\n",
        "\n"
      ],
      "metadata": {
        "id": "d3IlKDt9VUCN"
      }
    },
    {
      "cell_type": "code",
      "source": [
        "var95 = 0\n",
        "dimension = 0\n",
        "for i in range (784):\n",
        "  var95 = (var95 + np.real(eig_vals[i]))\n",
        "  if(var95 >= (0.95 * variance)):\n",
        "    dimension = i\n",
        "    break;\n",
        "print(var95)\n",
        "print(var95/variance)\n",
        "print(dimension)"
      ],
      "metadata": {
        "colab": {
          "base_uri": "https://localhost:8080/"
        },
        "id": "S9NEe7DNxFrU",
        "outputId": "e7315449-d452-4f00-a235-5f2f8a39f10f"
      },
      "execution_count": 15,
      "outputs": [
        {
          "output_type": "stream",
          "name": "stdout",
          "text": [
            "681.2749199701411\n",
            "0.950158389662655\n",
            "335\n"
          ]
        }
      ]
    },
    {
      "cell_type": "markdown",
      "source": [
        "\n",
        "\n",
        "> From the above we can see that almost little more than 95% variance captured by the top 335 directions.\n",
        "\n"
      ],
      "metadata": {
        "id": "n28j8pCDV14w"
      }
    },
    {
      "cell_type": "markdown",
      "source": [
        "\n",
        "\n",
        "> Now showing the images of principal components have obtained at 20 intervals as showing all 784 images will be large in size.\n",
        "\n"
      ],
      "metadata": {
        "id": "hPoMTFphWMfB"
      }
    },
    {
      "cell_type": "code",
      "source": [
        "d = eig_vecs[0]\n",
        "print(0)\n",
        "plt.figure(figsize=(6,4))\n",
        "plt.imshow(d.reshape(28,28), cmap='gray')\n",
        "plt.show()\n",
        "for i in range (1,784):\n",
        "  a = eig_vecs[i]\n",
        "  d = (d+(a))\n",
        "  if(i%40==0 or i==783):\n",
        "    print (i)\n",
        "    print()\n",
        "    e = d\n",
        "    e = e.reshape(28,28)\n",
        "    plt.figure(figsize=(6,4))\n",
        "    plt.imshow(e, cmap='gray')\n",
        "    plt.show()"
      ],
      "metadata": {
        "colab": {
          "base_uri": "https://localhost:8080/",
          "height": 1000
        },
        "id": "_hRqZ0KmRW0_",
        "outputId": "f57af1f3-c21f-47ab-ef7f-0c2e81ca0dab"
      },
      "execution_count": 21,
      "outputs": [
        {
          "output_type": "stream",
          "name": "stdout",
          "text": [
            "0\n"
          ]
        },
        {
          "output_type": "display_data",
          "data": {
            "text/plain": [
              "<Figure size 432x288 with 1 Axes>"
            ],
            "image/png": "[encoded data removed]"
          },
          "metadata": {
            "needs_background": "light"
          }
        },
        {
          "output_type": "stream",
          "name": "stdout",
          "text": [
            "40\n",
            "\n"
          ]
        },
        {
          "output_type": "display_data",
          "data": {
            "text/plain": [
              "<Figure size 432x288 with 1 Axes>"
            ],
            "image/png": "[encoded data removed]"
          },
          "metadata": {
            "needs_background": "light"
          }
        },
        {
          "output_type": "stream",
          "name": "stdout",
          "text": [
            "80\n",
            "\n"
          ]
        },
        {
          "output_type": "display_data",
          "data": {
            "text/plain": [
              "<Figure size 432x288 with 1 Axes>"
            ],
            "image/png": "[encoded data removed]"
          },
          "metadata": {
            "needs_background": "light"
          }
        },
        {
          "output_type": "stream",
          "name": "stdout",
          "text": [
            "120\n",
            "\n"
          ]
        },
        {
          "output_type": "display_data",
          "data": {
            "text/plain": [
              "<Figure size 432x288 with 1 Axes>"
            ],
            "image/png": "[encoded data removed]"
          },
          "metadata": {
            "needs_background": "light"
          }
        },
        {
          "output_type": "stream",
          "name": "stdout",
          "text": [
            "160\n",
            "\n"
          ]
        },
        {
          "output_type": "display_data",
          "data": {
            "text/plain": [
              "<Figure size 432x288 with 1 Axes>"
            ],
            "image/png": "[encoded data removed]"
          },
          "metadata": {
            "needs_background": "light"
          }
        },
        {
          "output_type": "stream",
          "name": "stdout",
          "text": [
            "200\n",
            "\n"
          ]
        },
        {
          "output_type": "display_data",
          "data": {
            "text/plain": [
              "<Figure size 432x288 with 1 Axes>"
            ],
            "image/png": "[encoded data removed]"
          },
          "metadata": {
            "needs_background": "light"
          }
        },
        {
          "output_type": "stream",
          "name": "stdout",
          "text": [
            "240\n",
            "\n"
          ]
        },
        {
          "output_type": "display_data",
          "data": {
            "text/plain": [
              "<Figure size 432x288 with 1 Axes>"
            ],
            "image/png": "[encoded data removed]"
          },
          "metadata": {
            "needs_background": "light"
          }
        },
        {
          "output_type": "stream",
          "name": "stdout",
          "text": [
            "280\n",
            "\n"
          ]
        },
        {
          "output_type": "display_data",
          "data": {
            "text/plain": [
              "<Figure size 432x288 with 1 Axes>"
            ],
            "image/png": "[encoded data removed]"
          },
          "metadata": {
            "needs_background": "light"
          }
        },
        {
          "output_type": "stream",
          "name": "stdout",
          "text": [
            "320\n",
            "\n"
          ]
        },
        {
          "output_type": "display_data",
          "data": {
            "text/plain": [
              "<Figure size 432x288 with 1 Axes>"
            ],
            "image/png": "[encoded data removed]"
          },
          "metadata": {
            "needs_background": "light"
          }
        },
        {
          "output_type": "stream",
          "name": "stdout",
          "text": [
            "360\n",
            "\n"
          ]
        },
        {
          "output_type": "display_data",
          "data": {
            "text/plain": [
              "<Figure size 432x288 with 1 Axes>"
            ],
            "image/png": "[encoded data removed]"
          },
          "metadata": {
            "needs_background": "light"
          }
        },
        {
          "output_type": "stream",
          "name": "stdout",
          "text": [
            "400\n",
            "\n"
          ]
        },
        {
          "output_type": "display_data",
          "data": {
            "text/plain": [
              "<Figure size 432x288 with 1 Axes>"
            ],
            "image/png": "[encoded data removed]"
          },
          "metadata": {
            "needs_background": "light"
          }
        },
        {
          "output_type": "stream",
          "name": "stdout",
          "text": [
            "440\n",
            "\n"
          ]
        },
        {
          "output_type": "display_data",
          "data": {
            "text/plain": [
              "<Figure size 432x288 with 1 Axes>"
            ],
            "image/png": "[encoded data removed]"
          },
          "metadata": {
            "needs_background": "light"
          }
        },
        {
          "output_type": "stream",
          "name": "stdout",
          "text": [
            "480\n",
            "\n"
          ]
        },
        {
          "output_type": "display_data",
          "data": {
            "text/plain": [
              "<Figure size 432x288 with 1 Axes>"
            ],
            "image/png": "[encoded data removed]"
          },
          "metadata": {
            "needs_background": "light"
          }
        },
        {
          "output_type": "stream",
          "name": "stdout",
          "text": [
            "520\n",
            "\n"
          ]
        },
        {
          "output_type": "display_data",
          "data": {
            "text/plain": [
              "<Figure size 432x288 with 1 Axes>"
            ],
            "image/png": "[encoded data removed]"
          },
          "metadata": {
            "needs_background": "light"
          }
        },
        {
          "output_type": "stream",
          "name": "stdout",
          "text": [
            "560\n",
            "\n"
          ]
        },
        {
          "output_type": "display_data",
          "data": {
            "text/plain": [
              "<Figure size 432x288 with 1 Axes>"
            ],
            "image/png": "[encoded data removed]"
          },
          "metadata": {
            "needs_background": "light"
          }
        },
        {
          "output_type": "stream",
          "name": "stdout",
          "text": [
            "600\n",
            "\n"
          ]
        },
        {
          "output_type": "display_data",
          "data": {
            "text/plain": [
              "<Figure size 432x288 with 1 Axes>"
            ],
            "image/png": "[encoded data removed]"
          },
          "metadata": {
            "needs_background": "light"
          }
        },
        {
          "output_type": "stream",
          "name": "stdout",
          "text": [
            "640\n",
            "\n"
          ]
        },
        {
          "output_type": "display_data",
          "data": {
            "text/plain": [
              "<Figure size 432x288 with 1 Axes>"
            ],
            "image/png": "[encoded data removed]"
          },
          "metadata": {
            "needs_background": "light"
          }
        },
        {
          "output_type": "stream",
          "name": "stdout",
          "text": [
            "680\n",
            "\n"
          ]
        },
        {
          "output_type": "display_data",
          "data": {
            "text/plain": [
              "<Figure size 432x288 with 1 Axes>"
            ],
            "image/png": "[encoded data removed]"
          },
          "metadata": {
            "needs_background": "light"
          }
        },
        {
          "output_type": "stream",
          "name": "stdout",
          "text": [
            "720\n",
            "\n"
          ]
        },
        {
          "output_type": "display_data",
          "data": {
            "text/plain": [
              "<Figure size 432x288 with 1 Axes>"
            ],
            "image/png": "[encoded data removed]"
          },
          "metadata": {
            "needs_background": "light"
          }
        },
        {
          "output_type": "stream",
          "name": "stdout",
          "text": [
            "760\n",
            "\n"
          ]
        },
        {
          "output_type": "display_data",
          "data": {
            "text/plain": [
              "<Figure size 432x288 with 1 Axes>"
            ],
            "image/png": "[encoded data removed]"
          },
          "metadata": {
            "needs_background": "light"
          }
        },
        {
          "output_type": "stream",
          "name": "stdout",
          "text": [
            "783\n",
            "\n"
          ]
        },
        {
          "output_type": "display_data",
          "data": {
            "text/plain": [
              "<Figure size 432x288 with 1 Axes>"
            ],
            "image/png": "[encoded data removed]"
          },
          "metadata": {
            "needs_background": "light"
          }
        }
      ]
    },
    {
      "cell_type": "markdown",
      "source": [
        "# Queston\n",
        "\n",
        "*1.2 Reconstruct the dataset using different dimensional representations. How do these look like? If you had to pick a dimension d that can be used for a downstream task where you need to classify the digits correctly, what would you pick and why?*\n",
        "\n"
      ],
      "metadata": {
        "id": "4wsaNhzdWt4Y"
      }
    },
    {
      "cell_type": "markdown",
      "source": [
        "\n",
        "\n",
        "> Reconstructing a sample image with the principal components we have obtained.\n",
        "\n"
      ],
      "metadata": {
        "id": "E_VUzWZaXLI2"
      }
    },
    {
      "cell_type": "code",
      "source": [
        "d = eig_vecs[0]\n",
        "for i in range (784):\n",
        "  a = eig_vecs[i]\n",
        "  b = np_x_train[1000]\n",
        "  c = np.matmul(b.T,a)\n",
        "  if(i==0):\n",
        "    d = a*c\n",
        "  else:\n",
        "    d = (d+(a*c))\n",
        "  if(i%40==0 or i==783):\n",
        "    print (i)\n",
        "    print()\n",
        "    e = d\n",
        "    e=e.reshape(28,28)\n",
        "    plt.figure(figsize=(6,4))\n",
        "    plt.imshow(e, cmap='gray')\n",
        "    plt.show()"
      ],
      "metadata": {
        "colab": {
          "base_uri": "https://localhost:8080/",
          "height": 1000
        },
        "id": "u9oIlq622qYw",
        "outputId": "02ac3e5b-54a2-42b0-d796-87f14a951914"
      },
      "execution_count": 20,
      "outputs": [
        {
          "output_type": "stream",
          "name": "stdout",
          "text": [
            "0\n",
            "\n"
          ]
        },
        {
          "output_type": "display_data",
          "data": {
            "text/plain": [
              "<Figure size 432x288 with 1 Axes>"
            ],
            "image/png": "[encoded data removed]"
          },
          "metadata": {
            "needs_background": "light"
          }
        },
        {
          "output_type": "stream",
          "name": "stdout",
          "text": [
            "40\n",
            "\n"
          ]
        },
        {
          "output_type": "display_data",
          "data": {
            "text/plain": [
              "<Figure size 432x288 with 1 Axes>"
            ],
            "image/png": "[encoded data removed]"
          },
          "metadata": {
            "needs_background": "light"
          }
        },
        {
          "output_type": "stream",
          "name": "stdout",
          "text": [
            "80\n",
            "\n"
          ]
        },
        {
          "output_type": "display_data",
          "data": {
            "text/plain": [
              "<Figure size 432x288 with 1 Axes>"
            ],
            "image/png": "[encoded data removed]"
          },
          "metadata": {
            "needs_background": "light"
          }
        },
        {
          "output_type": "stream",
          "name": "stdout",
          "text": [
            "120\n",
            "\n"
          ]
        },
        {
          "output_type": "display_data",
          "data": {
            "text/plain": [
              "<Figure size 432x288 with 1 Axes>"
            ],
            "image/png": "[encoded data removed]"
          },
          "metadata": {
            "needs_background": "light"
          }
        },
        {
          "output_type": "stream",
          "name": "stdout",
          "text": [
            "160\n",
            "\n"
          ]
        },
        {
          "output_type": "display_data",
          "data": {
            "text/plain": [
              "<Figure size 432x288 with 1 Axes>"
            ],
            "image/png": "[encoded data removed]"
          },
          "metadata": {
            "needs_background": "light"
          }
        },
        {
          "output_type": "stream",
          "name": "stdout",
          "text": [
            "200\n",
            "\n"
          ]
        },
        {
          "output_type": "display_data",
          "data": {
            "text/plain": [
              "<Figure size 432x288 with 1 Axes>"
            ],
            "image/png": "[encoded data removed]"
          },
          "metadata": {
            "needs_background": "light"
          }
        },
        {
          "output_type": "stream",
          "name": "stdout",
          "text": [
            "240\n",
            "\n"
          ]
        },
        {
          "output_type": "display_data",
          "data": {
            "text/plain": [
              "<Figure size 432x288 with 1 Axes>"
            ],
            "image/png": "[encoded data removed]"
          },
          "metadata": {
            "needs_background": "light"
          }
        },
        {
          "output_type": "stream",
          "name": "stdout",
          "text": [
            "280\n",
            "\n"
          ]
        },
        {
          "output_type": "display_data",
          "data": {
            "text/plain": [
              "<Figure size 432x288 with 1 Axes>"
            ],
            "image/png": "[encoded data removed]"
          },
          "metadata": {
            "needs_background": "light"
          }
        },
        {
          "output_type": "stream",
          "name": "stdout",
          "text": [
            "320\n",
            "\n"
          ]
        },
        {
          "output_type": "display_data",
          "data": {
            "text/plain": [
              "<Figure size 432x288 with 1 Axes>"
            ],
            "image/png": "[encoded data removed]"
          },
          "metadata": {
            "needs_background": "light"
          }
        },
        {
          "output_type": "stream",
          "name": "stdout",
          "text": [
            "360\n",
            "\n"
          ]
        },
        {
          "output_type": "display_data",
          "data": {
            "text/plain": [
              "<Figure size 432x288 with 1 Axes>"
            ],
            "image/png": "[encoded data removed]"
          },
          "metadata": {
            "needs_background": "light"
          }
        },
        {
          "output_type": "stream",
          "name": "stdout",
          "text": [
            "400\n",
            "\n"
          ]
        },
        {
          "output_type": "display_data",
          "data": {
            "text/plain": [
              "<Figure size 432x288 with 1 Axes>"
            ],
            "image/png": "[encoded data removed]"
          },
          "metadata": {
            "needs_background": "light"
          }
        },
        {
          "output_type": "stream",
          "name": "stdout",
          "text": [
            "440\n",
            "\n"
          ]
        },
        {
          "output_type": "display_data",
          "data": {
            "text/plain": [
              "<Figure size 432x288 with 1 Axes>"
            ],
            "image/png": "[encoded data removed]"
          },
          "metadata": {
            "needs_background": "light"
          }
        },
        {
          "output_type": "stream",
          "name": "stdout",
          "text": [
            "480\n",
            "\n"
          ]
        },
        {
          "output_type": "display_data",
          "data": {
            "text/plain": [
              "<Figure size 432x288 with 1 Axes>"
            ],
            "image/png": "[encoded data removed]"
          },
          "metadata": {
            "needs_background": "light"
          }
        },
        {
          "output_type": "stream",
          "name": "stdout",
          "text": [
            "520\n",
            "\n"
          ]
        },
        {
          "output_type": "display_data",
          "data": {
            "text/plain": [
              "<Figure size 432x288 with 1 Axes>"
            ],
            "image/png": "[encoded data removed]"
          },
          "metadata": {
            "needs_background": "light"
          }
        },
        {
          "output_type": "stream",
          "name": "stdout",
          "text": [
            "560\n",
            "\n"
          ]
        },
        {
          "output_type": "display_data",
          "data": {
            "text/plain": [
              "<Figure size 432x288 with 1 Axes>"
            ],
            "image/png": "[encoded data removed]"
          },
          "metadata": {
            "needs_background": "light"
          }
        },
        {
          "output_type": "stream",
          "name": "stdout",
          "text": [
            "600\n",
            "\n"
          ]
        },
        {
          "output_type": "display_data",
          "data": {
            "text/plain": [
              "<Figure size 432x288 with 1 Axes>"
            ],
            "image/png": "[encoded data removed]"
          },
          "metadata": {
            "needs_background": "light"
          }
        },
        {
          "output_type": "stream",
          "name": "stdout",
          "text": [
            "640\n",
            "\n"
          ]
        },
        {
          "output_type": "display_data",
          "data": {
            "text/plain": [
              "<Figure size 432x288 with 1 Axes>"
            ],
            "image/png": "[encoded data removed]"
          },
          "metadata": {
            "needs_background": "light"
          }
        },
        {
          "output_type": "stream",
          "name": "stdout",
          "text": [
            "680\n",
            "\n"
          ]
        },
        {
          "output_type": "display_data",
          "data": {
            "text/plain": [
              "<Figure size 432x288 with 1 Axes>"
            ],
            "image/png": "[encoded data removed]"
          },
          "metadata": {
            "needs_background": "light"
          }
        },
        {
          "output_type": "stream",
          "name": "stdout",
          "text": [
            "720\n",
            "\n"
          ]
        },
        {
          "output_type": "display_data",
          "data": {
            "text/plain": [
              "<Figure size 432x288 with 1 Axes>"
            ],
            "image/png": "[encoded data removed]"
          },
          "metadata": {
            "needs_background": "light"
          }
        },
        {
          "output_type": "stream",
          "name": "stdout",
          "text": [
            "760\n",
            "\n"
          ]
        },
        {
          "output_type": "display_data",
          "data": {
            "text/plain": [
              "<Figure size 432x288 with 1 Axes>"
            ],
            "image/png": "[encoded data removed]"
          },
          "metadata": {
            "needs_background": "light"
          }
        },
        {
          "output_type": "stream",
          "name": "stdout",
          "text": [
            "783\n",
            "\n"
          ]
        },
        {
          "output_type": "display_data",
          "data": {
            "text/plain": [
              "<Figure size 432x288 with 1 Axes>"
            ],
            "image/png": "[encoded data removed]"
          },
          "metadata": {
            "needs_background": "light"
          }
        }
      ]
    },
    {
      "cell_type": "markdown",
      "source": [
        "\n",
        "\n",
        "> From the above we can see that above 350 principal directions we can see the 0 pattern but for better visualizations we need more than 700 principal directions.\n",
        "\n",
        "\n",
        "> Here out of 784 dimensions we are storing almost more than 700 principal directions because as the data set given us is not containing any specific common pattern, PCA will capture most common features present along the all data. As all digits are not alike soo we have to store bigger number of dimensions to retain all data or in other word to correctly recognize the digit.\n",
        "\n",
        "\n",
        "\n"
      ],
      "metadata": {
        "id": "LCpjw9GNXhRT"
      }
    }
  ]
}