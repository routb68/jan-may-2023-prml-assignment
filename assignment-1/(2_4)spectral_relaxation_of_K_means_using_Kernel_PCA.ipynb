{
  "nbformat": 4,
  "nbformat_minor": 0,
  "metadata": {
    "colab": {
      "provenance": [],
      "authorship_tag": "ABX9TyOf34Z493MjjmPIZoKBT1Z1",
      "include_colab_link": true
    },
    "kernelspec": {
      "name": "python3",
      "display_name": "Python 3"
    },
    "language_info": {
      "name": "python"
    }
  },
  "cells": [
    {
      "cell_type": "markdown",
      "metadata": {
        "id": "view-in-github",
        "colab_type": "text"
      },
      "source": [
        "<a href=\"https://colab.research.google.com/github/routb68/jan-may-2023-prml-assignment/blob/main/assignment-1/(2_4)spectral_relaxation_of_K_means_using_Kernel_PCA.ipynb\" target=\"_parent\"><img src=\"https://colab.research.google.com/assets/colab-badge.svg\" alt=\"Open In Colab\"/></a>"
      ]
    },
    {
      "cell_type": "markdown",
      "source": [
        "\n",
        "**Question**\n",
        "> *Instead of using the method suggested by spectral clustering to map eigenvectors to cluster assignments, use the following method: Assign data point i to cluster l whenever\n",
        "l=arg max vij j =1,...,k\n",
        "where vj ∈ Rn is the eigenvector of the Kernel matrix associated with the j-th largest eigenvalue. How does this mapping perform for this dataset?. Explain your insights.*\n",
        "\n"
      ],
      "metadata": {
        "id": "5TRTUrOYvHg9"
      }
    },
    {
      "cell_type": "code",
      "execution_count": null,
      "metadata": {
        "colab": {
          "base_uri": "https://localhost:8080/",
          "height": 265
        },
        "id": "iNxYhdksjagE",
        "outputId": "8605a045-60c5-4171-8380-c86fbf8f1dc6"
      },
      "outputs": [
        {
          "output_type": "display_data",
          "data": {
            "text/plain": [
              "<Figure size 432x288 with 1 Axes>"
            ],
            "image/png": "[encoded data removed]"
          },
          "metadata": {
            "needs_background": "light"
          }
        }
      ],
      "source": [
        "import numpy as np\n",
        "import pandas as pd\n",
        "import matplotlib.pyplot as plt\n",
        "\n",
        "\n",
        "def find_kernal_matrix(array):\n",
        "    transposearray=np.transpose(array)\n",
        "    k=np.matmul(array, transposearray)\n",
        "    for i in range(1000):\n",
        "        for j in range(1000):\n",
        "            k[i][j]+=1\n",
        "    for i in range(1000):\n",
        "        for j in range(1000):\n",
        "            k[i][j]=k[i][j]*k[i][j]\n",
        "    I=np.identity(1000)\n",
        "    div=1/1000\n",
        "    divmat=np.full((1000,1000), div)\n",
        "    matminus = np.subtract(I, divmat) \n",
        "    f=np.matmul(matminus, k)\n",
        "    kernalcent=np.matmul(f, matminus)\n",
        "    return kernalcent\n",
        "\n",
        "\n",
        "\n",
        "def find_H_matrix(kernalcent,k):\n",
        "    eig_vals, eig_vecs = np.linalg.eig(kernalcent)\n",
        "    eig_index=eig_vals.argsort()[-k:][::-1]\n",
        "    top_k_eigen=[]\n",
        "    for i in range(k):\n",
        "        top_k_eigen.append(eig_vals[eig_index[i]])\n",
        "    top_k_eigen_vec=[]\n",
        "    for i in range(k):\n",
        "        top_k_eigen_vec.append(eig_vecs[:,eig_index[i]])\n",
        "\n",
        "    top_k_eigen_vec = np.array(top_k_eigen_vec)\n",
        "    top_k_eigen_vec=np.transpose(top_k_eigen_vec)\n",
        "    array=top_k_eigen_vec\n",
        "    return array\n",
        "\n",
        "\n",
        "\n",
        "\n",
        "def assignment_to_cluster(array,k):\n",
        "    assign=np.zeros([1000])\n",
        "    for i in range(1000):\n",
        "        index=0\n",
        "        maximum=array[i][0]\n",
        "        for j in range(1,k):\n",
        "            if(array[i][j]>maximum):\n",
        "                index=j\n",
        "                maximum=array[i][j]\n",
        "        assign[i]=index\n",
        "    return assign\n",
        "  \n",
        "\n",
        "\n",
        "def find_mean_of_cluster(arrayplot,assign):\n",
        "    mean=np.zeros([k,2])\n",
        "    count=np.zeros([k])\n",
        "    for i in range(1000):\n",
        "        mean[int(assign[i])]= np.add(mean[int(assign[i])],arrayplot[i])\n",
        "        count[int(assign[i])]+=1\n",
        "    for i in range(len(mean)):\n",
        "        mean[i]=np.divide(mean[i], count[i])\n",
        "    return mean\n",
        "\n",
        "\n",
        "def plot(arrayplot,assign,mean):\n",
        "    colour=['red','green','blue','orange','yellow']\n",
        "    for i in range(1000):\n",
        "        plt.scatter(arrayplot[i][0], arrayplot[i][1], c = colour[int(assign[i])])\n",
        "    for i in range(k):\n",
        "        plt.scatter(mean[i][0], mean[i][1],c = colour[i],marker='*',s=350)  \n",
        "    plt.show()\n",
        "\n",
        "\n",
        "df=pd.read_csv(r\"/content/cm_dataset_2.csv\",header=None)\n",
        "df.columns=('x','y')\n",
        "\n",
        "\n",
        "array=df.to_numpy()\n",
        "arrayplot=array\n",
        "plotarray=array\n",
        "\n",
        "number_of_clusters=2\n",
        "k=number_of_clusters\n",
        "\n",
        "\n",
        "kernalcent=find_kernal_matrix(array)\n",
        "array=find_H_matrix(kernalcent,k)\n",
        "assign=assignment_to_cluster(array,k)\n",
        "mean=find_mean_of_cluster(arrayplot,assign)\n",
        "plot(arrayplot,assign,mean)\n"
      ]
    }
  ]
}