{
  "nbformat": 4,
  "nbformat_minor": 0,
  "metadata": {
    "colab": {
      "provenance": [],
      "authorship_tag": "ABX9TyNT3z7XHkJZmzcrDkAztFYx",
      "include_colab_link": true
    },
    "kernelspec": {
      "name": "python3",
      "display_name": "Python 3"
    },
    "language_info": {
      "name": "python"
    }
  },
  "cells": [
    {
      "cell_type": "markdown",
      "metadata": {
        "id": "view-in-github",
        "colab_type": "text"
      },
      "source": [
        "<a href=\"https://colab.research.google.com/github/routb68/jan-may-2023-prml-assignment/blob/main/assignment-1/(2.3)Spectral_clustering.ipynb\" target=\"_parent\"><img src=\"https://colab.research.google.com/assets/colab-badge.svg\" alt=\"Open In Colab\"/></a>"
      ]
    },
    {
      "cell_type": "markdown",
      "source": [
        "**Question**\n",
        "\n",
        "> *2.3  Runthespectralclusteringalgorithm(spectral relaxation of K-means using Kernel- PCA) k = 2. Choose an appropriate kernel for this data-set and plot the clusters obtained in different colors. Explain your choice of kernel based on the output you obtain.*\n",
        "\n"
      ],
      "metadata": {
        "id": "iM6MV5I2t-Zw"
      }
    },
    {
      "cell_type": "code",
      "execution_count": null,
      "metadata": {
        "colab": {
          "base_uri": "https://localhost:8080/",
          "height": 333
        },
        "id": "Nu-bnxZnb2lP",
        "outputId": "1ac5aa44-b293-4aa9-a363-d6dcf3c86bad"
      },
      "outputs": [
        {
          "output_type": "stream",
          "name": "stderr",
          "text": [
            "<ipython-input-8-f803ae7450a0>:61: ComplexWarning: Casting complex values to real discards the imaginary part\n",
            "  mean[int(assign[i])]= np.add(mean[int(assign[i])],array[i])\n",
            "<ipython-input-8-f803ae7450a0>:109: ComplexWarning: Casting complex values to real discards the imaginary part\n",
            "  mean[int(assign[i])]=mean[int(assign[i])]+array[i]\n"
          ]
        },
        {
          "output_type": "display_data",
          "data": {
            "text/plain": [
              "<Figure size 432x288 with 1 Axes>"
            ],
            "image/png": "[encoded data removed]"
          },
          "metadata": {
            "needs_background": "light"
          }
        }
      ],
      "source": [
        "import numpy as np\n",
        "import pandas as pd\n",
        "import matplotlib.pyplot as plt\n",
        "import seaborn as sns\n",
        "\n",
        "df=pd.read_csv(r\"/content/cm_dataset_2.csv\",header=None)\n",
        "df.columns=('x','y')\n",
        "array=df.to_numpy()\n",
        "plotarray=array\n",
        "\n",
        "\n",
        "# finding centered Kernal matrix\n",
        "\n",
        "transposearray=np.transpose(array)\n",
        "k=np.matmul(array, transposearray)\n",
        "for i in range(1000):\n",
        "    for j in range(1000):\n",
        "        k[i][j]+=1\n",
        "for i in range(1000):\n",
        "    for j in range(1000):\n",
        "        k[i][j]=k[i][j]*k[i][j]\n",
        "        \n",
        "I=np.identity(1000)\n",
        "\n",
        "div=1/1000\n",
        "divmat=np.full((1000,1000), div)\n",
        "matminus = np.subtract(I, divmat) \n",
        "f=np.matmul(matminus, k)\n",
        "kernalcent=np.matmul(f, matminus)\n",
        "\n",
        "\n",
        "\n",
        "# Finding resultant matrix\n",
        "\n",
        "k=2\n",
        "eig_vals, eig_vecs = np.linalg.eig(kernalcent)\n",
        "eig_index=eig_vals.argsort()[-k:][::-1]\n",
        "top_k_eigen=[]\n",
        "for i in range(k):\n",
        "    top_k_eigen.append(eig_vals[eig_index[i]])\n",
        "top_k_eigen_vec=[]\n",
        "for i in range(k):\n",
        "    top_k_eigen_vec.append(eig_vecs[:,eig_index[i]])\n",
        "\n",
        "top_k_eigen_vec = np.array(top_k_eigen_vec)\n",
        "top_k_eigen_vec=np.transpose(top_k_eigen_vec)\n",
        "array=top_k_eigen_vec\n",
        "\n",
        "\n",
        "# initial assignment to clusters\n",
        "assign=np.zeros([1000])\n",
        "import random\n",
        "for i in range(1000):\n",
        "    assign[i]=random.randrange(k)\n",
        "\n",
        "\n",
        "# finding mean of clusters\n",
        "mean=np.zeros([k,k])\n",
        "count=np.zeros([k])\n",
        "for i in range(1000):\n",
        "    mean[int(assign[i])]= np.add(mean[int(assign[i])],array[i])\n",
        "    count[int(assign[i])]+=1\n",
        "for i in range(len(mean)):\n",
        "    mean[i]=np.divide(mean[i], count[i])\n",
        "\n",
        "\n",
        "\n",
        "# k-means algorithm implementation\n",
        "it=0\n",
        "final_error = -1\n",
        "itlist=[]\n",
        "errorlist=[]\n",
        "while(1):\n",
        "    it+=1\n",
        "    itlist.append(it)\n",
        "    dist=0\n",
        "    error=0\n",
        "    for i in range(1000):\n",
        "        dist=np.linalg.norm(array[i] - mean[int(assign[i])])\n",
        "        dist*=dist\n",
        "        error+=dist\n",
        "    errorlist.append(error)\n",
        "    error_fig=plt\n",
        "    if(final_error == -1):\n",
        "        final_error = error\n",
        "    elif(final_error > error):\n",
        "        final_error = error\n",
        "    else:\n",
        "        break\n",
        "    \n",
        "    reassign=np.zeros(1000)\n",
        "    dist_arr=[0]*k\n",
        "    for i in range(1000):\n",
        "        for j in range(k):\n",
        "            dist_arr[j]=np.linalg.norm(array[i] - mean[j])\n",
        "            dist_arr[j]*=dist_arr[j]\n",
        "        minpos=dist_arr.index(min(dist_arr))\n",
        "        if(assign[i]==minpos):\n",
        "            reassign[i]=assign[i]\n",
        "        else:\n",
        "            reassign[i]=minpos\n",
        "    assign=reassign\n",
        "    mean=np.zeros([k,k])\n",
        "    count=np.zeros([k])  \n",
        "    for i in range(1000):\n",
        "        mean[int(assign[i])]=mean[int(assign[i])]+array[i]\n",
        "        count[int(assign[i])]+=1\n",
        "\n",
        "    for i in range(len(mean)):\n",
        "        mean[i]=np.divide(mean[i], count[i])\n",
        "\n",
        "\n",
        "\n",
        "colour=['red','green','blue','orange','yellow']\n",
        "for i in range(1000):\n",
        "    plt.scatter(plotarray[i][0], plotarray[i][1], c = colour[int(assign[i])])\n",
        "plt.show()\n"
      ]
    }
  ]
}